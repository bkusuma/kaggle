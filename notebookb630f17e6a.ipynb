{
 "cells": [
  {
   "cell_type": "code",
   "execution_count": 1,
   "id": "057ba805",
   "metadata": {
    "_cell_guid": "b1076dfc-b9ad-4769-8c92-a6c4dae69d19",
    "_uuid": "8f2839f25d086af736a60e9eeb907d3b93b6e0e5",
    "execution": {
     "iopub.execute_input": "2025-03-10T23:51:25.466775Z",
     "iopub.status.busy": "2025-03-10T23:51:25.466379Z",
     "iopub.status.idle": "2025-03-10T23:51:26.704371Z",
     "shell.execute_reply": "2025-03-10T23:51:26.703580Z"
    },
    "papermill": {
     "duration": 1.245423,
     "end_time": "2025-03-10T23:51:26.706053",
     "exception": false,
     "start_time": "2025-03-10T23:51:25.460630",
     "status": "completed"
    },
    "tags": []
   },
   "outputs": [
    {
     "name": "stdout",
     "output_type": "stream",
     "text": [
      "/kaggle/src/script.ipynb\n",
      "/kaggle/lib/kaggle/gcp.py\n",
      "/kaggle/huggingface/hf_scan.py\n",
      "/kaggle/nbdev/settings.ini\n",
      "/kaggle/nbdev/export.sh\n",
      "/kaggle/working/__notebook__.ipynb\n"
     ]
    }
   ],
   "source": [
    "# This Python 3 environment comes with many helpful analytics libraries installed\n",
    "# It is defined by the kaggle/python Docker image: https://github.com/kaggle/docker-python\n",
    "# For example, here's several helpful packages to load\n",
    "\n",
    "import numpy as np # linear algebra\n",
    "import pandas as pd # data processing, CSV file I/O (e.g. pd.read_csv)\n",
    "\n",
    "# Input data files are available in the read-only \"../input/\" directory\n",
    "# For example, running this (by clicking run or pressing Shift+Enter) will list all files under the input directory\n",
    "\n",
    "import os\n",
    "for dirname, _, filenames in os.walk('/kaggle/'):\n",
    "    for filename in filenames:\n",
    "        print(os.path.join(dirname, filename))\n",
    "\n",
    "# You can write up to 20GB to the current directory (/kaggle/working/) that gets preserved as output when you create a version using \"Save & Run All\" \n",
    "# You can also write temporary files to /kaggle/temp/, but they won't be saved outside of the current session"
   ]
  },
  {
   "cell_type": "code",
   "execution_count": 2,
   "id": "9a6ca7f0",
   "metadata": {
    "execution": {
     "iopub.execute_input": "2025-03-10T23:51:26.714074Z",
     "iopub.status.busy": "2025-03-10T23:51:26.713547Z",
     "iopub.status.idle": "2025-03-10T23:51:26.722908Z",
     "shell.execute_reply": "2025-03-10T23:51:26.722000Z"
    },
    "papermill": {
     "duration": 0.014714,
     "end_time": "2025-03-10T23:51:26.724389",
     "exception": false,
     "start_time": "2025-03-10T23:51:26.709675",
     "status": "completed"
    },
    "tags": []
   },
   "outputs": [
    {
     "data": {
      "text/plain": [
       "['bin',\n",
       " 'var',\n",
       " 'mnt',\n",
       " 'etc',\n",
       " 'root',\n",
       " 'home',\n",
       " 'tmp',\n",
       " 'lib',\n",
       " 'sbin',\n",
       " 'proc',\n",
       " 'lib64',\n",
       " 'srv',\n",
       " 'boot',\n",
       " 'opt',\n",
       " 'sys',\n",
       " 'media',\n",
       " 'lib32',\n",
       " 'usr',\n",
       " 'run',\n",
       " 'libx32',\n",
       " 'dev',\n",
       " 'kaggle',\n",
       " '.dockerenv',\n",
       " '.jupyter',\n",
       " '=0.3.9',\n",
       " 'requirements.txt',\n",
       " 'colab_requirements.txt',\n",
       " 'kaggle_requirements.txt',\n",
       " 'datalab',\n",
       " 'tools',\n",
       " 'content',\n",
       " 'python-apt',\n",
       " 'python-apt.tar.xz',\n",
       " 'NGC-DL-CONTAINER-LICENSE',\n",
       " 'cuda-keyring_1.0-1_all.deb']"
      ]
     },
     "execution_count": 2,
     "metadata": {},
     "output_type": "execute_result"
    }
   ],
   "source": [
    "os.listdir(\"/\")"
   ]
  },
  {
   "cell_type": "code",
   "execution_count": 3,
   "id": "b8d56a30",
   "metadata": {
    "execution": {
     "iopub.execute_input": "2025-03-10T23:51:26.732022Z",
     "iopub.status.busy": "2025-03-10T23:51:26.731651Z",
     "iopub.status.idle": "2025-03-10T23:51:26.736653Z",
     "shell.execute_reply": "2025-03-10T23:51:26.735851Z"
    },
    "papermill": {
     "duration": 0.010636,
     "end_time": "2025-03-10T23:51:26.738473",
     "exception": false,
     "start_time": "2025-03-10T23:51:26.727837",
     "status": "completed"
    },
    "tags": []
   },
   "outputs": [
    {
     "data": {
      "text/plain": [
       "['.bashrc',\n",
       " '.profile',\n",
       " 'src',\n",
       " '.cache',\n",
       " '.jupyter',\n",
       " '.wget-hsts',\n",
       " '.EasyOCR',\n",
       " '.zshrc',\n",
       " '.config',\n",
       " '.local',\n",
       " '.tmux.conf',\n",
       " '.ipython',\n",
       " '.npm',\n",
       " '.launchpadlib']"
      ]
     },
     "execution_count": 3,
     "metadata": {},
     "output_type": "execute_result"
    }
   ],
   "source": [
    "os.listdir(\"/root/\")"
   ]
  },
  {
   "cell_type": "code",
   "execution_count": 4,
   "id": "e360a63f",
   "metadata": {
    "execution": {
     "iopub.execute_input": "2025-03-10T23:51:26.746294Z",
     "iopub.status.busy": "2025-03-10T23:51:26.745998Z",
     "iopub.status.idle": "2025-03-10T23:51:26.752472Z",
     "shell.execute_reply": "2025-03-10T23:51:26.751608Z"
    },
    "papermill": {
     "duration": 0.012174,
     "end_time": "2025-03-10T23:51:26.754290",
     "exception": false,
     "start_time": "2025-03-10T23:51:26.742116",
     "status": "completed"
    },
    "tags": []
   },
   "outputs": [
    {
     "data": {
      "text/plain": [
       "['BigQuery_Helper']"
      ]
     },
     "execution_count": 4,
     "metadata": {},
     "output_type": "execute_result"
    }
   ],
   "source": [
    "os.listdir(\"/root/src/\")"
   ]
  },
  {
   "cell_type": "code",
   "execution_count": 5,
   "id": "d5c24eab",
   "metadata": {
    "execution": {
     "iopub.execute_input": "2025-03-10T23:51:26.764163Z",
     "iopub.status.busy": "2025-03-10T23:51:26.763690Z",
     "iopub.status.idle": "2025-03-10T23:51:26.769494Z",
     "shell.execute_reply": "2025-03-10T23:51:26.768183Z"
    },
    "papermill": {
     "duration": 0.012957,
     "end_time": "2025-03-10T23:51:26.771552",
     "exception": false,
     "start_time": "2025-03-10T23:51:26.758595",
     "status": "completed"
    },
    "tags": []
   },
   "outputs": [
    {
     "data": {
      "text/plain": [
       "['__notebook__.ipynb']"
      ]
     },
     "execution_count": 5,
     "metadata": {},
     "output_type": "execute_result"
    }
   ],
   "source": [
    "os.listdir()"
   ]
  },
  {
   "cell_type": "code",
   "execution_count": 6,
   "id": "f78507cc",
   "metadata": {
    "execution": {
     "iopub.execute_input": "2025-03-10T23:51:26.781495Z",
     "iopub.status.busy": "2025-03-10T23:51:26.781154Z",
     "iopub.status.idle": "2025-03-10T23:51:26.785544Z",
     "shell.execute_reply": "2025-03-10T23:51:26.784484Z"
    },
    "papermill": {
     "duration": 0.010882,
     "end_time": "2025-03-10T23:51:26.787249",
     "exception": false,
     "start_time": "2025-03-10T23:51:26.776367",
     "status": "completed"
    },
    "tags": []
   },
   "outputs": [],
   "source": [
    "# shutil.move('renamed_gcp.py', \"/kaggle/working/\") "
   ]
  },
  {
   "cell_type": "code",
   "execution_count": 7,
   "id": "194e5d75",
   "metadata": {
    "execution": {
     "iopub.execute_input": "2025-03-10T23:51:26.796515Z",
     "iopub.status.busy": "2025-03-10T23:51:26.796124Z",
     "iopub.status.idle": "2025-03-10T23:51:26.802509Z",
     "shell.execute_reply": "2025-03-10T23:51:26.801266Z"
    },
    "papermill": {
     "duration": 0.012969,
     "end_time": "2025-03-10T23:51:26.804431",
     "exception": false,
     "start_time": "2025-03-10T23:51:26.791462",
     "status": "completed"
    },
    "tags": []
   },
   "outputs": [
    {
     "data": {
      "text/plain": [
       "['src', 'lib', 'input', 'huggingface', 'nbdev', 'working']"
      ]
     },
     "execution_count": 7,
     "metadata": {},
     "output_type": "execute_result"
    }
   ],
   "source": [
    "os.listdir(\"/kaggle/\")"
   ]
  },
  {
   "cell_type": "code",
   "execution_count": 8,
   "id": "c8e35991",
   "metadata": {
    "execution": {
     "iopub.execute_input": "2025-03-10T23:51:26.814401Z",
     "iopub.status.busy": "2025-03-10T23:51:26.813737Z",
     "iopub.status.idle": "2025-03-10T23:51:26.821199Z",
     "shell.execute_reply": "2025-03-10T23:51:26.819945Z"
    },
    "papermill": {
     "duration": 0.014758,
     "end_time": "2025-03-10T23:51:26.823307",
     "exception": false,
     "start_time": "2025-03-10T23:51:26.808549",
     "status": "completed"
    },
    "tags": []
   },
   "outputs": [
    {
     "data": {
      "text/plain": [
       "['kaggle']"
      ]
     },
     "execution_count": 8,
     "metadata": {},
     "output_type": "execute_result"
    }
   ],
   "source": [
    "os.listdir(\"/kaggle/lib/\")"
   ]
  },
  {
   "cell_type": "code",
   "execution_count": 9,
   "id": "fd98f6ca",
   "metadata": {
    "execution": {
     "iopub.execute_input": "2025-03-10T23:51:26.835326Z",
     "iopub.status.busy": "2025-03-10T23:51:26.833545Z",
     "iopub.status.idle": "2025-03-10T23:51:26.842273Z",
     "shell.execute_reply": "2025-03-10T23:51:26.840760Z"
    },
    "papermill": {
     "duration": 0.016812,
     "end_time": "2025-03-10T23:51:26.844923",
     "exception": false,
     "start_time": "2025-03-10T23:51:26.828111",
     "status": "completed"
    },
    "tags": []
   },
   "outputs": [
    {
     "data": {
      "text/plain": [
       "['gcp.py']"
      ]
     },
     "execution_count": 9,
     "metadata": {},
     "output_type": "execute_result"
    }
   ],
   "source": [
    "os.listdir(\"/kaggle/lib/kaggle\")"
   ]
  },
  {
   "cell_type": "code",
   "execution_count": 10,
   "id": "89b9d98c",
   "metadata": {
    "execution": {
     "iopub.execute_input": "2025-03-10T23:51:26.855789Z",
     "iopub.status.busy": "2025-03-10T23:51:26.855378Z",
     "iopub.status.idle": "2025-03-10T23:51:26.859261Z",
     "shell.execute_reply": "2025-03-10T23:51:26.858308Z"
    },
    "papermill": {
     "duration": 0.012084,
     "end_time": "2025-03-10T23:51:26.861272",
     "exception": false,
     "start_time": "2025-03-10T23:51:26.849188",
     "status": "completed"
    },
    "tags": []
   },
   "outputs": [],
   "source": [
    "# import shutil\n",
    "\n",
    "# def copy_and_rename(src_path, dest_path, new_name):\n",
    "# \t# Copy the file\n",
    "# \tshutil.copy(src_path, dest_path)\n",
    "\n",
    "# \t# Rename the copied file\n",
    "# \tnew_path = f\"{dest_path}/{new_name}\"\n",
    "# \tshutil.move(f\"{dest_path}/{src_path}\", new_path)\n",
    "\n",
    "# # Example usage\n",
    "# source_file = \"../lib/kaggle/gcp.py\"\n",
    "# destination_folder = \"/kaggle/working/\"\n",
    "# new_file_name = \"renamed_gcp.py\"\n",
    "\n",
    "# copy_and_rename(source_file, destination_folder, new_file_name)\n",
    "# print(\"Successfully Created File and Rename\")"
   ]
  },
  {
   "cell_type": "code",
   "execution_count": 11,
   "id": "edc1322a",
   "metadata": {
    "execution": {
     "iopub.execute_input": "2025-03-10T23:51:26.870370Z",
     "iopub.status.busy": "2025-03-10T23:51:26.870018Z",
     "iopub.status.idle": "2025-03-10T23:51:26.874587Z",
     "shell.execute_reply": "2025-03-10T23:51:26.872726Z"
    },
    "papermill": {
     "duration": 0.010958,
     "end_time": "2025-03-10T23:51:26.876435",
     "exception": false,
     "start_time": "2025-03-10T23:51:26.865477",
     "status": "completed"
    },
    "tags": []
   },
   "outputs": [],
   "source": [
    "# from pathlib import Path\n",
    "\n",
    "# def copy_and_rename_pathlib(src_path, dest_path, new_name):\n",
    "# \t# Create Path objects\n",
    "# \tsrc_path = Path(src_path)\n",
    "# \tdest_path = Path(dest_path)\n",
    "\n",
    "# \t# Copy and rename the file\n",
    "# \tnew_path = dest_path / new_name\n",
    "# \tsrc_path.rename(new_path)\n",
    "\n",
    "# # Example usage\n",
    "# source_file = \"kaggle/lib/kaggle/gcp.py\"\n",
    "# destination_folder = \"/kaggle/working/\"\n",
    "# new_file_name = \"renamed_gcp.py\"\n",
    "\n",
    "# copy_and_rename_pathlib(source_file, destination_folder, new_file_name)\n",
    "# print(\"Successfully Created File and Rename\")\n"
   ]
  },
  {
   "cell_type": "code",
   "execution_count": 12,
   "id": "77d958ab",
   "metadata": {
    "execution": {
     "iopub.execute_input": "2025-03-10T23:51:26.886019Z",
     "iopub.status.busy": "2025-03-10T23:51:26.885630Z",
     "iopub.status.idle": "2025-03-10T23:51:26.892388Z",
     "shell.execute_reply": "2025-03-10T23:51:26.890267Z"
    },
    "papermill": {
     "duration": 0.01372,
     "end_time": "2025-03-10T23:51:26.894492",
     "exception": false,
     "start_time": "2025-03-10T23:51:26.880772",
     "status": "completed"
    },
    "tags": []
   },
   "outputs": [
    {
     "data": {
      "text/plain": [
       "[]"
      ]
     },
     "execution_count": 12,
     "metadata": {},
     "output_type": "execute_result"
    }
   ],
   "source": [
    "os.listdir(\"/kaggle/input/\")"
   ]
  },
  {
   "cell_type": "code",
   "execution_count": 13,
   "id": "a51ee09f",
   "metadata": {
    "execution": {
     "iopub.execute_input": "2025-03-10T23:51:26.903677Z",
     "iopub.status.busy": "2025-03-10T23:51:26.903300Z",
     "iopub.status.idle": "2025-03-10T23:51:26.909244Z",
     "shell.execute_reply": "2025-03-10T23:51:26.908244Z"
    },
    "papermill": {
     "duration": 0.01189,
     "end_time": "2025-03-10T23:51:26.910485",
     "exception": false,
     "start_time": "2025-03-10T23:51:26.898595",
     "status": "completed"
    },
    "tags": []
   },
   "outputs": [
    {
     "data": {
      "text/plain": [
       "['__notebook__.ipynb']"
      ]
     },
     "execution_count": 13,
     "metadata": {},
     "output_type": "execute_result"
    }
   ],
   "source": [
    "os.listdir(\"/kaggle/working/\")"
   ]
  },
  {
   "cell_type": "code",
   "execution_count": 14,
   "id": "978392f0",
   "metadata": {
    "execution": {
     "iopub.execute_input": "2025-03-10T23:51:26.919360Z",
     "iopub.status.busy": "2025-03-10T23:51:26.919039Z",
     "iopub.status.idle": "2025-03-10T23:51:26.923001Z",
     "shell.execute_reply": "2025-03-10T23:51:26.922046Z"
    },
    "papermill": {
     "duration": 0.010683,
     "end_time": "2025-03-10T23:51:26.925064",
     "exception": false,
     "start_time": "2025-03-10T23:51:26.914381",
     "status": "completed"
    },
    "tags": []
   },
   "outputs": [],
   "source": [
    "# os.listdir(\"/kaggle/working/.virtual_documents/\")"
   ]
  },
  {
   "cell_type": "code",
   "execution_count": 15,
   "id": "d5494610",
   "metadata": {
    "execution": {
     "iopub.execute_input": "2025-03-10T23:51:26.934365Z",
     "iopub.status.busy": "2025-03-10T23:51:26.933985Z",
     "iopub.status.idle": "2025-03-10T23:51:26.941384Z",
     "shell.execute_reply": "2025-03-10T23:51:26.940166Z"
    },
    "papermill": {
     "duration": 0.014156,
     "end_time": "2025-03-10T23:51:26.943310",
     "exception": false,
     "start_time": "2025-03-10T23:51:26.929154",
     "status": "completed"
    },
    "tags": []
   },
   "outputs": [
    {
     "data": {
      "text/plain": [
       "['src', 'lib', 'input', 'huggingface', 'nbdev', 'working']"
      ]
     },
     "execution_count": 15,
     "metadata": {},
     "output_type": "execute_result"
    }
   ],
   "source": [
    "['src', 'lib', 'input', 'huggingface', 'nbdev', 'working']"
   ]
  },
  {
   "cell_type": "code",
   "execution_count": null,
   "id": "f2a72c42",
   "metadata": {
    "papermill": {
     "duration": 0.004066,
     "end_time": "2025-03-10T23:51:26.952791",
     "exception": false,
     "start_time": "2025-03-10T23:51:26.948725",
     "status": "completed"
    },
    "tags": []
   },
   "outputs": [],
   "source": []
  },
  {
   "cell_type": "code",
   "execution_count": 16,
   "id": "38eebb39",
   "metadata": {
    "execution": {
     "iopub.execute_input": "2025-03-10T23:51:26.960911Z",
     "iopub.status.busy": "2025-03-10T23:51:26.960592Z",
     "iopub.status.idle": "2025-03-10T23:51:26.965996Z",
     "shell.execute_reply": "2025-03-10T23:51:26.964899Z"
    },
    "papermill": {
     "duration": 0.011177,
     "end_time": "2025-03-10T23:51:26.967523",
     "exception": false,
     "start_time": "2025-03-10T23:51:26.956346",
     "status": "completed"
    },
    "tags": []
   },
   "outputs": [
    {
     "data": {
      "text/plain": [
       "'/kaggle/lib/kaggle/gcp.py'"
      ]
     },
     "execution_count": 16,
     "metadata": {},
     "output_type": "execute_result"
    }
   ],
   "source": [
    "\"/kaggle/lib/kaggle/gcp.py\""
   ]
  }
 ],
 "metadata": {
  "kaggle": {
   "accelerator": "none",
   "dataSources": [],
   "dockerImageVersionId": 30918,
   "isGpuEnabled": false,
   "isInternetEnabled": true,
   "language": "python",
   "sourceType": "notebook"
  },
  "kernelspec": {
   "display_name": "Python 3",
   "language": "python",
   "name": "python3"
  },
  "language_info": {
   "codemirror_mode": {
    "name": "ipython",
    "version": 3
   },
   "file_extension": ".py",
   "mimetype": "text/x-python",
   "name": "python",
   "nbconvert_exporter": "python",
   "pygments_lexer": "ipython3",
   "version": "3.10.12"
  },
  "papermill": {
   "default_parameters": {},
   "duration": 4.738901,
   "end_time": "2025-03-10T23:51:27.593655",
   "environment_variables": {},
   "exception": null,
   "input_path": "__notebook__.ipynb",
   "output_path": "__notebook__.ipynb",
   "parameters": {},
   "start_time": "2025-03-10T23:51:22.854754",
   "version": "2.6.0"
  }
 },
 "nbformat": 4,
 "nbformat_minor": 5
}
