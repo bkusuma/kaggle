{
 "cells": [
  {
   "cell_type": "code",
   "execution_count": 1,
   "id": "8f41e064",
   "metadata": {
    "_cell_guid": "b1076dfc-b9ad-4769-8c92-a6c4dae69d19",
    "_uuid": "8f2839f25d086af736a60e9eeb907d3b93b6e0e5",
    "execution": {
     "iopub.execute_input": "2025-03-10T22:51:16.129839Z",
     "iopub.status.busy": "2025-03-10T22:51:16.129538Z",
     "iopub.status.idle": "2025-03-10T22:51:17.103459Z",
     "shell.execute_reply": "2025-03-10T22:51:17.102711Z"
    },
    "papermill": {
     "duration": 0.978346,
     "end_time": "2025-03-10T22:51:17.105107",
     "exception": false,
     "start_time": "2025-03-10T22:51:16.126761",
     "status": "completed"
    },
    "tags": []
   },
   "outputs": [],
   "source": [
    "# This Python 3 environment comes with many helpful analytics libraries installed\n",
    "# It is defined by the kaggle/python Docker image: https://github.com/kaggle/docker-python\n",
    "# For example, here's several helpful packages to load\n",
    "\n",
    "import numpy as np # linear algebra\n",
    "import pandas as pd # data processing, CSV file I/O (e.g. pd.read_csv)\n",
    "\n",
    "# Input data files are available in the read-only \"../input/\" directory\n",
    "# For example, running this (by clicking run or pressing Shift+Enter) will list all files under the input directory\n",
    "\n",
    "import os\n",
    "for dirname, _, filenames in os.walk('/kaggle/input'):\n",
    "    for filename in filenames:\n",
    "        print(os.path.join(dirname, filename))\n",
    "\n",
    "# You can write up to 20GB to the current directory (/kaggle/working/) that gets preserved as output when you create a version using \"Save & Run All\" \n",
    "# You can also write temporary files to /kaggle/temp/, but they won't be saved outside of the current session"
   ]
  },
  {
   "cell_type": "code",
   "execution_count": 2,
   "id": "832540fd",
   "metadata": {
    "execution": {
     "iopub.execute_input": "2025-03-10T22:51:17.109182Z",
     "iopub.status.busy": "2025-03-10T22:51:17.108741Z",
     "iopub.status.idle": "2025-03-10T22:51:17.114430Z",
     "shell.execute_reply": "2025-03-10T22:51:17.113627Z"
    },
    "papermill": {
     "duration": 0.008781,
     "end_time": "2025-03-10T22:51:17.115577",
     "exception": false,
     "start_time": "2025-03-10T22:51:17.106796",
     "status": "completed"
    },
    "tags": []
   },
   "outputs": [
    {
     "data": {
      "text/plain": [
       "['src', 'lib', 'input', 'huggingface', 'nbdev', 'working']"
      ]
     },
     "execution_count": 2,
     "metadata": {},
     "output_type": "execute_result"
    }
   ],
   "source": [
    "os.listdir(\"/kaggle/\")"
   ]
  },
  {
   "cell_type": "code",
   "execution_count": null,
   "id": "9a473ee5",
   "metadata": {
    "papermill": {
     "duration": 0.00096,
     "end_time": "2025-03-10T22:51:17.117980",
     "exception": false,
     "start_time": "2025-03-10T22:51:17.117020",
     "status": "completed"
    },
    "tags": []
   },
   "outputs": [],
   "source": []
  }
 ],
 "metadata": {
  "kaggle": {
   "accelerator": "none",
   "dataSources": [],
   "dockerImageVersionId": 30918,
   "isGpuEnabled": false,
   "isInternetEnabled": true,
   "language": "python",
   "sourceType": "notebook"
  },
  "kernelspec": {
   "display_name": "Python 3",
   "language": "python",
   "name": "python3"
  },
  "language_info": {
   "codemirror_mode": {
    "name": "ipython",
    "version": 3
   },
   "file_extension": ".py",
   "mimetype": "text/x-python",
   "name": "python",
   "nbconvert_exporter": "python",
   "pygments_lexer": "ipython3",
   "version": "3.10.12"
  },
  "papermill": {
   "default_parameters": {},
   "duration": 4.54055,
   "end_time": "2025-03-10T22:51:17.636149",
   "environment_variables": {},
   "exception": null,
   "input_path": "__notebook__.ipynb",
   "output_path": "__notebook__.ipynb",
   "parameters": {},
   "start_time": "2025-03-10T22:51:13.095599",
   "version": "2.6.0"
  }
 },
 "nbformat": 4,
 "nbformat_minor": 5
}
