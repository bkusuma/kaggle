{
 "cells": [
  {
   "cell_type": "code",
   "execution_count": 1,
   "id": "37e8865a",
   "metadata": {
    "_cell_guid": "b1076dfc-b9ad-4769-8c92-a6c4dae69d19",
    "_uuid": "8f2839f25d086af736a60e9eeb907d3b93b6e0e5",
    "execution": {
     "iopub.execute_input": "2025-03-11T17:54:31.901227Z",
     "iopub.status.busy": "2025-03-11T17:54:31.900872Z",
     "iopub.status.idle": "2025-03-11T17:54:33.129043Z",
     "shell.execute_reply": "2025-03-11T17:54:33.127539Z"
    },
    "papermill": {
     "duration": 1.236856,
     "end_time": "2025-03-11T17:54:33.130908",
     "exception": false,
     "start_time": "2025-03-11T17:54:31.894052",
     "status": "completed"
    },
    "tags": []
   },
   "outputs": [
    {
     "name": "stdout",
     "output_type": "stream",
     "text": [
      "/kaggle/src/script.ipynb\n",
      "/kaggle/lib/kaggle/gcp.py\n",
      "/kaggle/input/home-credit-default-risk/sample_submission.csv\n",
      "/kaggle/input/home-credit-default-risk/bureau_balance.csv\n",
      "/kaggle/input/home-credit-default-risk/POS_CASH_balance.csv\n",
      "/kaggle/input/home-credit-default-risk/application_train.csv\n",
      "/kaggle/input/home-credit-default-risk/HomeCredit_columns_description.csv\n",
      "/kaggle/input/home-credit-default-risk/application_test.csv\n",
      "/kaggle/input/home-credit-default-risk/previous_application.csv\n",
      "/kaggle/input/home-credit-default-risk/credit_card_balance.csv\n",
      "/kaggle/input/home-credit-default-risk/installments_payments.csv\n",
      "/kaggle/input/home-credit-default-risk/bureau.csv\n",
      "/kaggle/huggingface/hf_scan.py\n",
      "/kaggle/nbdev/settings.ini\n",
      "/kaggle/nbdev/export.sh\n",
      "/kaggle/working/__notebook__.ipynb\n"
     ]
    }
   ],
   "source": [
    "# This Python 3 environment comes with many helpful analytics libraries installed\n",
    "# It is defined by the kaggle/python Docker image: https://github.com/kaggle/docker-python\n",
    "# For example, here's several helpful packages to load\n",
    "\n",
    "import numpy as np # linear algebra\n",
    "import pandas as pd # data processing, CSV file I/O (e.g. pd.read_csv)\n",
    "\n",
    "# Input data files are available in the read-only \"../input/\" directory\n",
    "# For example, running this (by clicking run or pressing Shift+Enter) will list all files under the input directory\n",
    "\n",
    "import os\n",
    "for dirname, _, filenames in os.walk('/kaggle/'):\n",
    "    for filename in filenames:\n",
    "        print(os.path.join(dirname, filename))\n",
    "\n",
    "# You can write up to 20GB to the current directory (/kaggle/working/) that gets preserved as output when you create a version using \"Save & Run All\" \n",
    "# You can also write temporary files to /kaggle/temp/, but they won't be saved outside of the current session"
   ]
  },
  {
   "cell_type": "code",
   "execution_count": 2,
   "id": "57d7de64",
   "metadata": {
    "execution": {
     "iopub.execute_input": "2025-03-11T17:54:33.141430Z",
     "iopub.status.busy": "2025-03-11T17:54:33.141001Z",
     "iopub.status.idle": "2025-03-11T17:54:37.251147Z",
     "shell.execute_reply": "2025-03-11T17:54:37.249763Z"
    },
    "papermill": {
     "duration": 4.117164,
     "end_time": "2025-03-11T17:54:37.253035",
     "exception": false,
     "start_time": "2025-03-11T17:54:33.135871",
     "status": "completed"
    },
    "tags": []
   },
   "outputs": [],
   "source": [
    "df = pd.read_csv(\"/kaggle/input/home-credit-default-risk/application_train.csv\")"
   ]
  },
  {
   "cell_type": "code",
   "execution_count": 3,
   "id": "e07668a6",
   "metadata": {
    "execution": {
     "iopub.execute_input": "2025-03-11T17:54:37.264895Z",
     "iopub.status.busy": "2025-03-11T17:54:37.264564Z",
     "iopub.status.idle": "2025-03-11T17:54:37.356183Z",
     "shell.execute_reply": "2025-03-11T17:54:37.355012Z"
    },
    "papermill": {
     "duration": 0.098941,
     "end_time": "2025-03-11T17:54:37.357527",
     "exception": false,
     "start_time": "2025-03-11T17:54:37.258586",
     "status": "completed"
    },
    "tags": []
   },
   "outputs": [
    {
     "name": "stderr",
     "output_type": "stream",
     "text": [
      "/usr/local/lib/python3.10/dist-packages/pandas/io/formats/format.py:1458: RuntimeWarning: invalid value encountered in greater\n",
      "  has_large_values = (abs_vals > 1e6).any()\n",
      "/usr/local/lib/python3.10/dist-packages/pandas/io/formats/format.py:1459: RuntimeWarning: invalid value encountered in less\n",
      "  has_small_values = ((abs_vals < 10 ** (-self.digits)) & (abs_vals > 0)).any()\n",
      "/usr/local/lib/python3.10/dist-packages/pandas/io/formats/format.py:1459: RuntimeWarning: invalid value encountered in greater\n",
      "  has_small_values = ((abs_vals < 10 ** (-self.digits)) & (abs_vals > 0)).any()\n",
      "/usr/local/lib/python3.10/dist-packages/pandas/io/formats/format.py:1458: RuntimeWarning: invalid value encountered in greater\n",
      "  has_large_values = (abs_vals > 1e6).any()\n",
      "/usr/local/lib/python3.10/dist-packages/pandas/io/formats/format.py:1459: RuntimeWarning: invalid value encountered in less\n",
      "  has_small_values = ((abs_vals < 10 ** (-self.digits)) & (abs_vals > 0)).any()\n",
      "/usr/local/lib/python3.10/dist-packages/pandas/io/formats/format.py:1459: RuntimeWarning: invalid value encountered in greater\n",
      "  has_small_values = ((abs_vals < 10 ** (-self.digits)) & (abs_vals > 0)).any()\n"
     ]
    },
    {
     "data": {
      "text/html": [
       "<div>\n",
       "<style scoped>\n",
       "    .dataframe tbody tr th:only-of-type {\n",
       "        vertical-align: middle;\n",
       "    }\n",
       "\n",
       "    .dataframe tbody tr th {\n",
       "        vertical-align: top;\n",
       "    }\n",
       "\n",
       "    .dataframe thead th {\n",
       "        text-align: right;\n",
       "    }\n",
       "</style>\n",
       "<table border=\"1\" class=\"dataframe\">\n",
       "  <thead>\n",
       "    <tr style=\"text-align: right;\">\n",
       "      <th></th>\n",
       "      <th>SK_ID_CURR</th>\n",
       "      <th>TARGET</th>\n",
       "      <th>NAME_CONTRACT_TYPE</th>\n",
       "      <th>CODE_GENDER</th>\n",
       "      <th>FLAG_OWN_CAR</th>\n",
       "      <th>FLAG_OWN_REALTY</th>\n",
       "      <th>CNT_CHILDREN</th>\n",
       "      <th>AMT_INCOME_TOTAL</th>\n",
       "      <th>AMT_CREDIT</th>\n",
       "      <th>AMT_ANNUITY</th>\n",
       "      <th>...</th>\n",
       "      <th>FLAG_DOCUMENT_18</th>\n",
       "      <th>FLAG_DOCUMENT_19</th>\n",
       "      <th>FLAG_DOCUMENT_20</th>\n",
       "      <th>FLAG_DOCUMENT_21</th>\n",
       "      <th>AMT_REQ_CREDIT_BUREAU_HOUR</th>\n",
       "      <th>AMT_REQ_CREDIT_BUREAU_DAY</th>\n",
       "      <th>AMT_REQ_CREDIT_BUREAU_WEEK</th>\n",
       "      <th>AMT_REQ_CREDIT_BUREAU_MON</th>\n",
       "      <th>AMT_REQ_CREDIT_BUREAU_QRT</th>\n",
       "      <th>AMT_REQ_CREDIT_BUREAU_YEAR</th>\n",
       "    </tr>\n",
       "  </thead>\n",
       "  <tbody>\n",
       "    <tr>\n",
       "      <th>0</th>\n",
       "      <td>100002</td>\n",
       "      <td>1</td>\n",
       "      <td>Cash loans</td>\n",
       "      <td>M</td>\n",
       "      <td>N</td>\n",
       "      <td>Y</td>\n",
       "      <td>0</td>\n",
       "      <td>202500.0</td>\n",
       "      <td>406597.5</td>\n",
       "      <td>24700.5</td>\n",
       "      <td>...</td>\n",
       "      <td>0</td>\n",
       "      <td>0</td>\n",
       "      <td>0</td>\n",
       "      <td>0</td>\n",
       "      <td>0.0</td>\n",
       "      <td>0.0</td>\n",
       "      <td>0.0</td>\n",
       "      <td>0.0</td>\n",
       "      <td>0.0</td>\n",
       "      <td>1.0</td>\n",
       "    </tr>\n",
       "    <tr>\n",
       "      <th>1</th>\n",
       "      <td>100003</td>\n",
       "      <td>0</td>\n",
       "      <td>Cash loans</td>\n",
       "      <td>F</td>\n",
       "      <td>N</td>\n",
       "      <td>N</td>\n",
       "      <td>0</td>\n",
       "      <td>270000.0</td>\n",
       "      <td>1293502.5</td>\n",
       "      <td>35698.5</td>\n",
       "      <td>...</td>\n",
       "      <td>0</td>\n",
       "      <td>0</td>\n",
       "      <td>0</td>\n",
       "      <td>0</td>\n",
       "      <td>0.0</td>\n",
       "      <td>0.0</td>\n",
       "      <td>0.0</td>\n",
       "      <td>0.0</td>\n",
       "      <td>0.0</td>\n",
       "      <td>0.0</td>\n",
       "    </tr>\n",
       "    <tr>\n",
       "      <th>2</th>\n",
       "      <td>100004</td>\n",
       "      <td>0</td>\n",
       "      <td>Revolving loans</td>\n",
       "      <td>M</td>\n",
       "      <td>Y</td>\n",
       "      <td>Y</td>\n",
       "      <td>0</td>\n",
       "      <td>67500.0</td>\n",
       "      <td>135000.0</td>\n",
       "      <td>6750.0</td>\n",
       "      <td>...</td>\n",
       "      <td>0</td>\n",
       "      <td>0</td>\n",
       "      <td>0</td>\n",
       "      <td>0</td>\n",
       "      <td>0.0</td>\n",
       "      <td>0.0</td>\n",
       "      <td>0.0</td>\n",
       "      <td>0.0</td>\n",
       "      <td>0.0</td>\n",
       "      <td>0.0</td>\n",
       "    </tr>\n",
       "    <tr>\n",
       "      <th>3</th>\n",
       "      <td>100006</td>\n",
       "      <td>0</td>\n",
       "      <td>Cash loans</td>\n",
       "      <td>F</td>\n",
       "      <td>N</td>\n",
       "      <td>Y</td>\n",
       "      <td>0</td>\n",
       "      <td>135000.0</td>\n",
       "      <td>312682.5</td>\n",
       "      <td>29686.5</td>\n",
       "      <td>...</td>\n",
       "      <td>0</td>\n",
       "      <td>0</td>\n",
       "      <td>0</td>\n",
       "      <td>0</td>\n",
       "      <td>NaN</td>\n",
       "      <td>NaN</td>\n",
       "      <td>NaN</td>\n",
       "      <td>NaN</td>\n",
       "      <td>NaN</td>\n",
       "      <td>NaN</td>\n",
       "    </tr>\n",
       "    <tr>\n",
       "      <th>4</th>\n",
       "      <td>100007</td>\n",
       "      <td>0</td>\n",
       "      <td>Cash loans</td>\n",
       "      <td>M</td>\n",
       "      <td>N</td>\n",
       "      <td>Y</td>\n",
       "      <td>0</td>\n",
       "      <td>121500.0</td>\n",
       "      <td>513000.0</td>\n",
       "      <td>21865.5</td>\n",
       "      <td>...</td>\n",
       "      <td>0</td>\n",
       "      <td>0</td>\n",
       "      <td>0</td>\n",
       "      <td>0</td>\n",
       "      <td>0.0</td>\n",
       "      <td>0.0</td>\n",
       "      <td>0.0</td>\n",
       "      <td>0.0</td>\n",
       "      <td>0.0</td>\n",
       "      <td>0.0</td>\n",
       "    </tr>\n",
       "    <tr>\n",
       "      <th>...</th>\n",
       "      <td>...</td>\n",
       "      <td>...</td>\n",
       "      <td>...</td>\n",
       "      <td>...</td>\n",
       "      <td>...</td>\n",
       "      <td>...</td>\n",
       "      <td>...</td>\n",
       "      <td>...</td>\n",
       "      <td>...</td>\n",
       "      <td>...</td>\n",
       "      <td>...</td>\n",
       "      <td>...</td>\n",
       "      <td>...</td>\n",
       "      <td>...</td>\n",
       "      <td>...</td>\n",
       "      <td>...</td>\n",
       "      <td>...</td>\n",
       "      <td>...</td>\n",
       "      <td>...</td>\n",
       "      <td>...</td>\n",
       "      <td>...</td>\n",
       "    </tr>\n",
       "    <tr>\n",
       "      <th>307506</th>\n",
       "      <td>456251</td>\n",
       "      <td>0</td>\n",
       "      <td>Cash loans</td>\n",
       "      <td>M</td>\n",
       "      <td>N</td>\n",
       "      <td>N</td>\n",
       "      <td>0</td>\n",
       "      <td>157500.0</td>\n",
       "      <td>254700.0</td>\n",
       "      <td>27558.0</td>\n",
       "      <td>...</td>\n",
       "      <td>0</td>\n",
       "      <td>0</td>\n",
       "      <td>0</td>\n",
       "      <td>0</td>\n",
       "      <td>NaN</td>\n",
       "      <td>NaN</td>\n",
       "      <td>NaN</td>\n",
       "      <td>NaN</td>\n",
       "      <td>NaN</td>\n",
       "      <td>NaN</td>\n",
       "    </tr>\n",
       "    <tr>\n",
       "      <th>307507</th>\n",
       "      <td>456252</td>\n",
       "      <td>0</td>\n",
       "      <td>Cash loans</td>\n",
       "      <td>F</td>\n",
       "      <td>N</td>\n",
       "      <td>Y</td>\n",
       "      <td>0</td>\n",
       "      <td>72000.0</td>\n",
       "      <td>269550.0</td>\n",
       "      <td>12001.5</td>\n",
       "      <td>...</td>\n",
       "      <td>0</td>\n",
       "      <td>0</td>\n",
       "      <td>0</td>\n",
       "      <td>0</td>\n",
       "      <td>NaN</td>\n",
       "      <td>NaN</td>\n",
       "      <td>NaN</td>\n",
       "      <td>NaN</td>\n",
       "      <td>NaN</td>\n",
       "      <td>NaN</td>\n",
       "    </tr>\n",
       "    <tr>\n",
       "      <th>307508</th>\n",
       "      <td>456253</td>\n",
       "      <td>0</td>\n",
       "      <td>Cash loans</td>\n",
       "      <td>F</td>\n",
       "      <td>N</td>\n",
       "      <td>Y</td>\n",
       "      <td>0</td>\n",
       "      <td>153000.0</td>\n",
       "      <td>677664.0</td>\n",
       "      <td>29979.0</td>\n",
       "      <td>...</td>\n",
       "      <td>0</td>\n",
       "      <td>0</td>\n",
       "      <td>0</td>\n",
       "      <td>0</td>\n",
       "      <td>1.0</td>\n",
       "      <td>0.0</td>\n",
       "      <td>0.0</td>\n",
       "      <td>1.0</td>\n",
       "      <td>0.0</td>\n",
       "      <td>1.0</td>\n",
       "    </tr>\n",
       "    <tr>\n",
       "      <th>307509</th>\n",
       "      <td>456254</td>\n",
       "      <td>1</td>\n",
       "      <td>Cash loans</td>\n",
       "      <td>F</td>\n",
       "      <td>N</td>\n",
       "      <td>Y</td>\n",
       "      <td>0</td>\n",
       "      <td>171000.0</td>\n",
       "      <td>370107.0</td>\n",
       "      <td>20205.0</td>\n",
       "      <td>...</td>\n",
       "      <td>0</td>\n",
       "      <td>0</td>\n",
       "      <td>0</td>\n",
       "      <td>0</td>\n",
       "      <td>0.0</td>\n",
       "      <td>0.0</td>\n",
       "      <td>0.0</td>\n",
       "      <td>0.0</td>\n",
       "      <td>0.0</td>\n",
       "      <td>0.0</td>\n",
       "    </tr>\n",
       "    <tr>\n",
       "      <th>307510</th>\n",
       "      <td>456255</td>\n",
       "      <td>0</td>\n",
       "      <td>Cash loans</td>\n",
       "      <td>F</td>\n",
       "      <td>N</td>\n",
       "      <td>N</td>\n",
       "      <td>0</td>\n",
       "      <td>157500.0</td>\n",
       "      <td>675000.0</td>\n",
       "      <td>49117.5</td>\n",
       "      <td>...</td>\n",
       "      <td>0</td>\n",
       "      <td>0</td>\n",
       "      <td>0</td>\n",
       "      <td>0</td>\n",
       "      <td>0.0</td>\n",
       "      <td>0.0</td>\n",
       "      <td>0.0</td>\n",
       "      <td>2.0</td>\n",
       "      <td>0.0</td>\n",
       "      <td>1.0</td>\n",
       "    </tr>\n",
       "  </tbody>\n",
       "</table>\n",
       "<p>307511 rows × 122 columns</p>\n",
       "</div>"
      ],
      "text/plain": [
       "        SK_ID_CURR  TARGET NAME_CONTRACT_TYPE CODE_GENDER FLAG_OWN_CAR  \\\n",
       "0           100002       1         Cash loans           M            N   \n",
       "1           100003       0         Cash loans           F            N   \n",
       "2           100004       0    Revolving loans           M            Y   \n",
       "3           100006       0         Cash loans           F            N   \n",
       "4           100007       0         Cash loans           M            N   \n",
       "...            ...     ...                ...         ...          ...   \n",
       "307506      456251       0         Cash loans           M            N   \n",
       "307507      456252       0         Cash loans           F            N   \n",
       "307508      456253       0         Cash loans           F            N   \n",
       "307509      456254       1         Cash loans           F            N   \n",
       "307510      456255       0         Cash loans           F            N   \n",
       "\n",
       "       FLAG_OWN_REALTY  CNT_CHILDREN  AMT_INCOME_TOTAL  AMT_CREDIT  \\\n",
       "0                    Y             0          202500.0    406597.5   \n",
       "1                    N             0          270000.0   1293502.5   \n",
       "2                    Y             0           67500.0    135000.0   \n",
       "3                    Y             0          135000.0    312682.5   \n",
       "4                    Y             0          121500.0    513000.0   \n",
       "...                ...           ...               ...         ...   \n",
       "307506               N             0          157500.0    254700.0   \n",
       "307507               Y             0           72000.0    269550.0   \n",
       "307508               Y             0          153000.0    677664.0   \n",
       "307509               Y             0          171000.0    370107.0   \n",
       "307510               N             0          157500.0    675000.0   \n",
       "\n",
       "        AMT_ANNUITY  ...  FLAG_DOCUMENT_18 FLAG_DOCUMENT_19 FLAG_DOCUMENT_20  \\\n",
       "0           24700.5  ...                 0                0                0   \n",
       "1           35698.5  ...                 0                0                0   \n",
       "2            6750.0  ...                 0                0                0   \n",
       "3           29686.5  ...                 0                0                0   \n",
       "4           21865.5  ...                 0                0                0   \n",
       "...             ...  ...               ...              ...              ...   \n",
       "307506      27558.0  ...                 0                0                0   \n",
       "307507      12001.5  ...                 0                0                0   \n",
       "307508      29979.0  ...                 0                0                0   \n",
       "307509      20205.0  ...                 0                0                0   \n",
       "307510      49117.5  ...                 0                0                0   \n",
       "\n",
       "       FLAG_DOCUMENT_21 AMT_REQ_CREDIT_BUREAU_HOUR AMT_REQ_CREDIT_BUREAU_DAY  \\\n",
       "0                     0                        0.0                       0.0   \n",
       "1                     0                        0.0                       0.0   \n",
       "2                     0                        0.0                       0.0   \n",
       "3                     0                        NaN                       NaN   \n",
       "4                     0                        0.0                       0.0   \n",
       "...                 ...                        ...                       ...   \n",
       "307506                0                        NaN                       NaN   \n",
       "307507                0                        NaN                       NaN   \n",
       "307508                0                        1.0                       0.0   \n",
       "307509                0                        0.0                       0.0   \n",
       "307510                0                        0.0                       0.0   \n",
       "\n",
       "        AMT_REQ_CREDIT_BUREAU_WEEK  AMT_REQ_CREDIT_BUREAU_MON  \\\n",
       "0                              0.0                        0.0   \n",
       "1                              0.0                        0.0   \n",
       "2                              0.0                        0.0   \n",
       "3                              NaN                        NaN   \n",
       "4                              0.0                        0.0   \n",
       "...                            ...                        ...   \n",
       "307506                         NaN                        NaN   \n",
       "307507                         NaN                        NaN   \n",
       "307508                         0.0                        1.0   \n",
       "307509                         0.0                        0.0   \n",
       "307510                         0.0                        2.0   \n",
       "\n",
       "        AMT_REQ_CREDIT_BUREAU_QRT  AMT_REQ_CREDIT_BUREAU_YEAR  \n",
       "0                             0.0                         1.0  \n",
       "1                             0.0                         0.0  \n",
       "2                             0.0                         0.0  \n",
       "3                             NaN                         NaN  \n",
       "4                             0.0                         0.0  \n",
       "...                           ...                         ...  \n",
       "307506                        NaN                         NaN  \n",
       "307507                        NaN                         NaN  \n",
       "307508                        0.0                         1.0  \n",
       "307509                        0.0                         0.0  \n",
       "307510                        0.0                         1.0  \n",
       "\n",
       "[307511 rows x 122 columns]"
      ]
     },
     "execution_count": 3,
     "metadata": {},
     "output_type": "execute_result"
    }
   ],
   "source": [
    "df"
   ]
  },
  {
   "cell_type": "code",
   "execution_count": 4,
   "id": "4e98f73d",
   "metadata": {
    "execution": {
     "iopub.execute_input": "2025-03-11T17:54:37.368447Z",
     "iopub.status.busy": "2025-03-11T17:54:37.368103Z",
     "iopub.status.idle": "2025-03-11T17:54:37.376878Z",
     "shell.execute_reply": "2025-03-11T17:54:37.375398Z"
    },
    "papermill": {
     "duration": 0.016309,
     "end_time": "2025-03-11T17:54:37.378799",
     "exception": false,
     "start_time": "2025-03-11T17:54:37.362490",
     "status": "completed"
    },
    "tags": []
   },
   "outputs": [
    {
     "data": {
      "text/plain": [
       "['bin',\n",
       " 'var',\n",
       " 'mnt',\n",
       " 'etc',\n",
       " 'root',\n",
       " 'home',\n",
       " 'tmp',\n",
       " 'lib',\n",
       " 'sbin',\n",
       " 'proc',\n",
       " 'lib64',\n",
       " 'srv',\n",
       " 'boot',\n",
       " 'opt',\n",
       " 'sys',\n",
       " 'media',\n",
       " 'lib32',\n",
       " 'usr',\n",
       " 'run',\n",
       " 'libx32',\n",
       " 'dev',\n",
       " 'kaggle',\n",
       " '.dockerenv',\n",
       " '.jupyter',\n",
       " '=0.3.9',\n",
       " 'requirements.txt',\n",
       " 'colab_requirements.txt',\n",
       " 'kaggle_requirements.txt',\n",
       " 'datalab',\n",
       " 'tools',\n",
       " 'content',\n",
       " 'python-apt',\n",
       " 'python-apt.tar.xz',\n",
       " 'NGC-DL-CONTAINER-LICENSE',\n",
       " 'cuda-keyring_1.0-1_all.deb']"
      ]
     },
     "execution_count": 4,
     "metadata": {},
     "output_type": "execute_result"
    }
   ],
   "source": [
    "os.listdir(\"/\")"
   ]
  },
  {
   "cell_type": "code",
   "execution_count": 5,
   "id": "833a845f",
   "metadata": {
    "execution": {
     "iopub.execute_input": "2025-03-11T17:54:37.389676Z",
     "iopub.status.busy": "2025-03-11T17:54:37.389386Z",
     "iopub.status.idle": "2025-03-11T17:54:37.396897Z",
     "shell.execute_reply": "2025-03-11T17:54:37.395668Z"
    },
    "papermill": {
     "duration": 0.014702,
     "end_time": "2025-03-11T17:54:37.398677",
     "exception": false,
     "start_time": "2025-03-11T17:54:37.383975",
     "status": "completed"
    },
    "tags": []
   },
   "outputs": [
    {
     "data": {
      "text/plain": [
       "['BigQuery_Helper']"
      ]
     },
     "execution_count": 5,
     "metadata": {},
     "output_type": "execute_result"
    }
   ],
   "source": [
    "os.listdir(\"/root/src/\")"
   ]
  },
  {
   "cell_type": "code",
   "execution_count": 6,
   "id": "a7540dcb",
   "metadata": {
    "execution": {
     "iopub.execute_input": "2025-03-11T17:54:37.409973Z",
     "iopub.status.busy": "2025-03-11T17:54:37.409630Z",
     "iopub.status.idle": "2025-03-11T17:54:37.416096Z",
     "shell.execute_reply": "2025-03-11T17:54:37.414901Z"
    },
    "papermill": {
     "duration": 0.013407,
     "end_time": "2025-03-11T17:54:37.417479",
     "exception": false,
     "start_time": "2025-03-11T17:54:37.404072",
     "status": "completed"
    },
    "tags": []
   },
   "outputs": [
    {
     "data": {
      "text/plain": [
       "['.bashrc',\n",
       " '.profile',\n",
       " 'src',\n",
       " '.cache',\n",
       " '.jupyter',\n",
       " '.wget-hsts',\n",
       " '.EasyOCR',\n",
       " '.zshrc',\n",
       " '.config',\n",
       " '.local',\n",
       " '.tmux.conf',\n",
       " '.ipython',\n",
       " '.npm',\n",
       " '.launchpadlib']"
      ]
     },
     "execution_count": 6,
     "metadata": {},
     "output_type": "execute_result"
    }
   ],
   "source": [
    "os.listdir(\"/root/\")"
   ]
  },
  {
   "cell_type": "code",
   "execution_count": 7,
   "id": "17b224ee",
   "metadata": {
    "execution": {
     "iopub.execute_input": "2025-03-11T17:54:37.428487Z",
     "iopub.status.busy": "2025-03-11T17:54:37.428175Z",
     "iopub.status.idle": "2025-03-11T17:54:37.433566Z",
     "shell.execute_reply": "2025-03-11T17:54:37.432740Z"
    },
    "papermill": {
     "duration": 0.012247,
     "end_time": "2025-03-11T17:54:37.434993",
     "exception": false,
     "start_time": "2025-03-11T17:54:37.422746",
     "status": "completed"
    },
    "tags": []
   },
   "outputs": [
    {
     "data": {
      "text/plain": [
       "['BigQuery_Helper']"
      ]
     },
     "execution_count": 7,
     "metadata": {},
     "output_type": "execute_result"
    }
   ],
   "source": [
    "os.listdir(\"/root/src/\")"
   ]
  },
  {
   "cell_type": "code",
   "execution_count": 8,
   "id": "8367397f",
   "metadata": {
    "execution": {
     "iopub.execute_input": "2025-03-11T17:54:37.446775Z",
     "iopub.status.busy": "2025-03-11T17:54:37.446452Z",
     "iopub.status.idle": "2025-03-11T17:54:37.452403Z",
     "shell.execute_reply": "2025-03-11T17:54:37.451254Z"
    },
    "papermill": {
     "duration": 0.013916,
     "end_time": "2025-03-11T17:54:37.454363",
     "exception": false,
     "start_time": "2025-03-11T17:54:37.440447",
     "status": "completed"
    },
    "tags": []
   },
   "outputs": [
    {
     "data": {
      "text/plain": [
       "['__notebook__.ipynb']"
      ]
     },
     "execution_count": 8,
     "metadata": {},
     "output_type": "execute_result"
    }
   ],
   "source": [
    "os.listdir()"
   ]
  },
  {
   "cell_type": "code",
   "execution_count": 9,
   "id": "915c1e6b",
   "metadata": {
    "execution": {
     "iopub.execute_input": "2025-03-11T17:54:37.466753Z",
     "iopub.status.busy": "2025-03-11T17:54:37.466444Z",
     "iopub.status.idle": "2025-03-11T17:54:37.470766Z",
     "shell.execute_reply": "2025-03-11T17:54:37.469249Z"
    },
    "papermill": {
     "duration": 0.012843,
     "end_time": "2025-03-11T17:54:37.472668",
     "exception": false,
     "start_time": "2025-03-11T17:54:37.459825",
     "status": "completed"
    },
    "tags": []
   },
   "outputs": [],
   "source": [
    "# shutil.move('renamed_gcp.py', \"/kaggle/working/\") "
   ]
  },
  {
   "cell_type": "code",
   "execution_count": 10,
   "id": "182d1e8f",
   "metadata": {
    "execution": {
     "iopub.execute_input": "2025-03-11T17:54:37.484742Z",
     "iopub.status.busy": "2025-03-11T17:54:37.484437Z",
     "iopub.status.idle": "2025-03-11T17:54:37.491431Z",
     "shell.execute_reply": "2025-03-11T17:54:37.489845Z"
    },
    "papermill": {
     "duration": 0.014977,
     "end_time": "2025-03-11T17:54:37.493096",
     "exception": false,
     "start_time": "2025-03-11T17:54:37.478119",
     "status": "completed"
    },
    "tags": []
   },
   "outputs": [
    {
     "data": {
      "text/plain": [
       "['src', 'lib', 'input', 'huggingface', 'nbdev', 'working']"
      ]
     },
     "execution_count": 10,
     "metadata": {},
     "output_type": "execute_result"
    }
   ],
   "source": [
    "os.listdir(\"/kaggle/\")"
   ]
  },
  {
   "cell_type": "code",
   "execution_count": 11,
   "id": "eff9b711",
   "metadata": {
    "execution": {
     "iopub.execute_input": "2025-03-11T17:54:37.506088Z",
     "iopub.status.busy": "2025-03-11T17:54:37.505762Z",
     "iopub.status.idle": "2025-03-11T17:54:37.510854Z",
     "shell.execute_reply": "2025-03-11T17:54:37.509885Z"
    },
    "papermill": {
     "duration": 0.012823,
     "end_time": "2025-03-11T17:54:37.512412",
     "exception": false,
     "start_time": "2025-03-11T17:54:37.499589",
     "status": "completed"
    },
    "tags": []
   },
   "outputs": [
    {
     "data": {
      "text/plain": [
       "['kaggle']"
      ]
     },
     "execution_count": 11,
     "metadata": {},
     "output_type": "execute_result"
    }
   ],
   "source": [
    "os.listdir(\"/kaggle/lib/\")"
   ]
  },
  {
   "cell_type": "code",
   "execution_count": 12,
   "id": "1be7bfb9",
   "metadata": {
    "execution": {
     "iopub.execute_input": "2025-03-11T17:54:37.524677Z",
     "iopub.status.busy": "2025-03-11T17:54:37.524299Z",
     "iopub.status.idle": "2025-03-11T17:54:37.529526Z",
     "shell.execute_reply": "2025-03-11T17:54:37.528782Z"
    },
    "papermill": {
     "duration": 0.0126,
     "end_time": "2025-03-11T17:54:37.530804",
     "exception": false,
     "start_time": "2025-03-11T17:54:37.518204",
     "status": "completed"
    },
    "tags": []
   },
   "outputs": [
    {
     "data": {
      "text/plain": [
       "['gcp.py']"
      ]
     },
     "execution_count": 12,
     "metadata": {},
     "output_type": "execute_result"
    }
   ],
   "source": [
    "os.listdir(\"/kaggle/lib/kaggle\")"
   ]
  },
  {
   "cell_type": "code",
   "execution_count": 13,
   "id": "1b6df0a9",
   "metadata": {
    "execution": {
     "iopub.execute_input": "2025-03-11T17:54:37.542382Z",
     "iopub.status.busy": "2025-03-11T17:54:37.542050Z",
     "iopub.status.idle": "2025-03-11T17:54:37.546266Z",
     "shell.execute_reply": "2025-03-11T17:54:37.545029Z"
    },
    "papermill": {
     "duration": 0.011905,
     "end_time": "2025-03-11T17:54:37.548061",
     "exception": false,
     "start_time": "2025-03-11T17:54:37.536156",
     "status": "completed"
    },
    "tags": []
   },
   "outputs": [],
   "source": [
    "# import shutil\n",
    "\n",
    "# def copy_and_rename(src_path, dest_path, new_name):\n",
    "# \t# Copy the file\n",
    "# \tshutil.copy(src_path, dest_path)\n",
    "\n",
    "# \t# Rename the copied file\n",
    "# \tnew_path = f\"{dest_path}/{new_name}\"\n",
    "# \tshutil.move(f\"{dest_path}/{src_path}\", new_path)\n",
    "\n",
    "# # Example usage\n",
    "# source_file = \"../lib/kaggle/gcp.py\"\n",
    "# destination_folder = \"/kaggle/working/\"\n",
    "# new_file_name = \"renamed_gcp.py\"\n",
    "\n",
    "# copy_and_rename(source_file, destination_folder, new_file_name)\n",
    "# print(\"Successfully Created File and Rename\")"
   ]
  },
  {
   "cell_type": "code",
   "execution_count": 14,
   "id": "982513f2",
   "metadata": {
    "execution": {
     "iopub.execute_input": "2025-03-11T17:54:37.560201Z",
     "iopub.status.busy": "2025-03-11T17:54:37.559874Z",
     "iopub.status.idle": "2025-03-11T17:54:37.564303Z",
     "shell.execute_reply": "2025-03-11T17:54:37.562882Z"
    },
    "papermill": {
     "duration": 0.012044,
     "end_time": "2025-03-11T17:54:37.566047",
     "exception": false,
     "start_time": "2025-03-11T17:54:37.554003",
     "status": "completed"
    },
    "tags": []
   },
   "outputs": [],
   "source": [
    "# from pathlib import Path\n",
    "\n",
    "# def copy_and_rename_pathlib(src_path, dest_path, new_name):\n",
    "# \t# Create Path objects\n",
    "# \tsrc_path = Path(src_path)\n",
    "# \tdest_path = Path(dest_path)\n",
    "\n",
    "# \t# Copy and rename the file\n",
    "# \tnew_path = dest_path / new_name\n",
    "# \tsrc_path.rename(new_path)\n",
    "\n",
    "# # Example usage\n",
    "# source_file = \"kaggle/lib/kaggle/gcp.py\"\n",
    "# destination_folder = \"/kaggle/working/\"\n",
    "# new_file_name = \"renamed_gcp.py\"\n",
    "\n",
    "# copy_and_rename_pathlib(source_file, destination_folder, new_file_name)\n",
    "# print(\"Successfully Created File and Rename\")\n"
   ]
  },
  {
   "cell_type": "code",
   "execution_count": 15,
   "id": "073d7f72",
   "metadata": {
    "execution": {
     "iopub.execute_input": "2025-03-11T17:54:37.578041Z",
     "iopub.status.busy": "2025-03-11T17:54:37.577675Z",
     "iopub.status.idle": "2025-03-11T17:54:37.583484Z",
     "shell.execute_reply": "2025-03-11T17:54:37.582460Z"
    },
    "papermill": {
     "duration": 0.013851,
     "end_time": "2025-03-11T17:54:37.585496",
     "exception": false,
     "start_time": "2025-03-11T17:54:37.571645",
     "status": "completed"
    },
    "tags": []
   },
   "outputs": [
    {
     "data": {
      "text/plain": [
       "['home-credit-default-risk']"
      ]
     },
     "execution_count": 15,
     "metadata": {},
     "output_type": "execute_result"
    }
   ],
   "source": [
    "os.listdir(\"/kaggle/input/\")"
   ]
  },
  {
   "cell_type": "code",
   "execution_count": 16,
   "id": "4e5d4cfa",
   "metadata": {
    "execution": {
     "iopub.execute_input": "2025-03-11T17:54:37.597529Z",
     "iopub.status.busy": "2025-03-11T17:54:37.597187Z",
     "iopub.status.idle": "2025-03-11T17:54:37.603112Z",
     "shell.execute_reply": "2025-03-11T17:54:37.602217Z"
    },
    "papermill": {
     "duration": 0.013421,
     "end_time": "2025-03-11T17:54:37.604609",
     "exception": false,
     "start_time": "2025-03-11T17:54:37.591188",
     "status": "completed"
    },
    "tags": []
   },
   "outputs": [
    {
     "data": {
      "text/plain": [
       "['__notebook__.ipynb']"
      ]
     },
     "execution_count": 16,
     "metadata": {},
     "output_type": "execute_result"
    }
   ],
   "source": [
    "os.listdir(\"/kaggle/working/\")"
   ]
  },
  {
   "cell_type": "code",
   "execution_count": 17,
   "id": "3c39cdb8",
   "metadata": {
    "execution": {
     "iopub.execute_input": "2025-03-11T17:54:37.616586Z",
     "iopub.status.busy": "2025-03-11T17:54:37.616241Z",
     "iopub.status.idle": "2025-03-11T17:54:37.620287Z",
     "shell.execute_reply": "2025-03-11T17:54:37.619081Z"
    },
    "papermill": {
     "duration": 0.011344,
     "end_time": "2025-03-11T17:54:37.621589",
     "exception": false,
     "start_time": "2025-03-11T17:54:37.610245",
     "status": "completed"
    },
    "tags": []
   },
   "outputs": [],
   "source": [
    "# os.listdir(\"/kaggle/working/.virtual_documents/\")"
   ]
  },
  {
   "cell_type": "code",
   "execution_count": 18,
   "id": "e70af908",
   "metadata": {
    "execution": {
     "iopub.execute_input": "2025-03-11T17:54:37.634203Z",
     "iopub.status.busy": "2025-03-11T17:54:37.633812Z",
     "iopub.status.idle": "2025-03-11T17:54:37.639966Z",
     "shell.execute_reply": "2025-03-11T17:54:37.638453Z"
    },
    "papermill": {
     "duration": 0.014237,
     "end_time": "2025-03-11T17:54:37.641723",
     "exception": false,
     "start_time": "2025-03-11T17:54:37.627486",
     "status": "completed"
    },
    "tags": []
   },
   "outputs": [
    {
     "data": {
      "text/plain": [
       "['src', 'lib', 'input', 'huggingface', 'nbdev', 'working']"
      ]
     },
     "execution_count": 18,
     "metadata": {},
     "output_type": "execute_result"
    }
   ],
   "source": [
    "['src', 'lib', 'input', 'huggingface', 'nbdev', 'working']"
   ]
  },
  {
   "cell_type": "code",
   "execution_count": 19,
   "id": "7d4c5c4d",
   "metadata": {
    "execution": {
     "iopub.execute_input": "2025-03-11T17:54:37.654595Z",
     "iopub.status.busy": "2025-03-11T17:54:37.654278Z",
     "iopub.status.idle": "2025-03-11T17:54:37.660140Z",
     "shell.execute_reply": "2025-03-11T17:54:37.658838Z"
    },
    "papermill": {
     "duration": 0.014381,
     "end_time": "2025-03-11T17:54:37.662137",
     "exception": false,
     "start_time": "2025-03-11T17:54:37.647756",
     "status": "completed"
    },
    "tags": []
   },
   "outputs": [
    {
     "data": {
      "text/plain": [
       "'/kaggle/lib/kaggle/gcp.py'"
      ]
     },
     "execution_count": 19,
     "metadata": {},
     "output_type": "execute_result"
    }
   ],
   "source": [
    "\"/kaggle/lib/kaggle/gcp.py\""
   ]
  },
  {
   "cell_type": "code",
   "execution_count": 20,
   "id": "069e44a0",
   "metadata": {
    "execution": {
     "iopub.execute_input": "2025-03-11T17:54:37.674863Z",
     "iopub.status.busy": "2025-03-11T17:54:37.674551Z",
     "iopub.status.idle": "2025-03-11T17:54:37.678574Z",
     "shell.execute_reply": "2025-03-11T17:54:37.677529Z"
    },
    "papermill": {
     "duration": 0.012337,
     "end_time": "2025-03-11T17:54:37.680495",
     "exception": false,
     "start_time": "2025-03-11T17:54:37.668158",
     "status": "completed"
    },
    "tags": []
   },
   "outputs": [],
   "source": [
    "# !sudo apt-get install tree"
   ]
  },
  {
   "cell_type": "code",
   "execution_count": 21,
   "id": "972271a8",
   "metadata": {
    "execution": {
     "iopub.execute_input": "2025-03-11T17:54:37.693259Z",
     "iopub.status.busy": "2025-03-11T17:54:37.692961Z",
     "iopub.status.idle": "2025-03-11T17:54:37.820632Z",
     "shell.execute_reply": "2025-03-11T17:54:37.819387Z"
    },
    "papermill": {
     "duration": 0.135423,
     "end_time": "2025-03-11T17:54:37.822374",
     "exception": false,
     "start_time": "2025-03-11T17:54:37.686951",
     "status": "completed"
    },
    "tags": []
   },
   "outputs": [
    {
     "name": "stdout",
     "output_type": "stream",
     "text": [
      "/bin/bash: line 1: tree: command not found\r\n"
     ]
    }
   ],
   "source": [
    "!tree /kaggle"
   ]
  },
  {
   "cell_type": "code",
   "execution_count": 22,
   "id": "db56686b",
   "metadata": {
    "execution": {
     "iopub.execute_input": "2025-03-11T17:54:37.835086Z",
     "iopub.status.busy": "2025-03-11T17:54:37.834704Z",
     "iopub.status.idle": "2025-03-11T17:54:37.838875Z",
     "shell.execute_reply": "2025-03-11T17:54:37.837726Z"
    },
    "papermill": {
     "duration": 0.01213,
     "end_time": "2025-03-11T17:54:37.840308",
     "exception": false,
     "start_time": "2025-03-11T17:54:37.828178",
     "status": "completed"
    },
    "tags": []
   },
   "outputs": [],
   "source": [
    "# !tree /"
   ]
  },
  {
   "cell_type": "code",
   "execution_count": 23,
   "id": "cbc8907b",
   "metadata": {
    "execution": {
     "iopub.execute_input": "2025-03-11T17:54:37.852373Z",
     "iopub.status.busy": "2025-03-11T17:54:37.852089Z",
     "iopub.status.idle": "2025-03-11T17:54:37.978301Z",
     "shell.execute_reply": "2025-03-11T17:54:37.977148Z"
    },
    "papermill": {
     "duration": 0.133914,
     "end_time": "2025-03-11T17:54:37.980039",
     "exception": false,
     "start_time": "2025-03-11T17:54:37.846125",
     "status": "completed"
    },
    "tags": []
   },
   "outputs": [
    {
     "name": "stdout",
     "output_type": "stream",
     "text": [
      "/kaggle/working\r\n"
     ]
    }
   ],
   "source": [
    "!pwd"
   ]
  },
  {
   "cell_type": "code",
   "execution_count": 24,
   "id": "59b81eb1",
   "metadata": {
    "execution": {
     "iopub.execute_input": "2025-03-11T17:54:37.992883Z",
     "iopub.status.busy": "2025-03-11T17:54:37.992558Z",
     "iopub.status.idle": "2025-03-11T17:54:38.125494Z",
     "shell.execute_reply": "2025-03-11T17:54:38.124491Z"
    },
    "papermill": {
     "duration": 0.141067,
     "end_time": "2025-03-11T17:54:38.127132",
     "exception": false,
     "start_time": "2025-03-11T17:54:37.986065",
     "status": "completed"
    },
    "tags": []
   },
   "outputs": [
    {
     "name": "stdout",
     "output_type": "stream",
     "text": [
      "__notebook__.ipynb\r\n"
     ]
    }
   ],
   "source": [
    "!ls"
   ]
  },
  {
   "cell_type": "code",
   "execution_count": 25,
   "id": "ae24c27f",
   "metadata": {
    "execution": {
     "iopub.execute_input": "2025-03-11T17:54:38.139879Z",
     "iopub.status.busy": "2025-03-11T17:54:38.139561Z",
     "iopub.status.idle": "2025-03-11T17:54:38.267889Z",
     "shell.execute_reply": "2025-03-11T17:54:38.266651Z"
    },
    "papermill": {
     "duration": 0.137306,
     "end_time": "2025-03-11T17:54:38.270315",
     "exception": false,
     "start_time": "2025-03-11T17:54:38.133009",
     "status": "completed"
    },
    "tags": []
   },
   "outputs": [
    {
     "name": "stdout",
     "output_type": "stream",
     "text": [
      "total 56K\r\n",
      "drwxr-xr-x 2 root root 4.0K Mar 11 17:54 .\r\n",
      "drwxr-xr-x 8 root root 4.0K Mar 11 17:54 ..\r\n",
      "---------- 1 root root  45K Mar 11 17:54 __notebook__.ipynb\r\n"
     ]
    }
   ],
   "source": [
    "!ls -lah"
   ]
  },
  {
   "cell_type": "code",
   "execution_count": 26,
   "id": "f5c60f63",
   "metadata": {
    "execution": {
     "iopub.execute_input": "2025-03-11T17:54:38.284073Z",
     "iopub.status.busy": "2025-03-11T17:54:38.283698Z",
     "iopub.status.idle": "2025-03-11T17:54:38.412550Z",
     "shell.execute_reply": "2025-03-11T17:54:38.411519Z"
    },
    "papermill": {
     "duration": 0.136964,
     "end_time": "2025-03-11T17:54:38.414289",
     "exception": false,
     "start_time": "2025-03-11T17:54:38.277325",
     "status": "completed"
    },
    "tags": []
   },
   "outputs": [
    {
     "name": "stdout",
     "output_type": "stream",
     "text": [
      "__notebook__.ipynb\r\n"
     ]
    }
   ],
   "source": [
    "!ls ."
   ]
  },
  {
   "cell_type": "code",
   "execution_count": 27,
   "id": "660ca58e",
   "metadata": {
    "execution": {
     "iopub.execute_input": "2025-03-11T17:54:38.427302Z",
     "iopub.status.busy": "2025-03-11T17:54:38.427002Z",
     "iopub.status.idle": "2025-03-11T17:54:38.555556Z",
     "shell.execute_reply": "2025-03-11T17:54:38.554203Z"
    },
    "papermill": {
     "duration": 0.136914,
     "end_time": "2025-03-11T17:54:38.557301",
     "exception": false,
     "start_time": "2025-03-11T17:54:38.420387",
     "status": "completed"
    },
    "tags": []
   },
   "outputs": [
    {
     "name": "stdout",
     "output_type": "stream",
     "text": [
      "__notebook__.ipynb\r\n"
     ]
    }
   ],
   "source": [
    "!ls /kaggle/working"
   ]
  },
  {
   "cell_type": "code",
   "execution_count": 28,
   "id": "58fc34df",
   "metadata": {
    "execution": {
     "iopub.execute_input": "2025-03-11T17:54:38.572221Z",
     "iopub.status.busy": "2025-03-11T17:54:38.571841Z",
     "iopub.status.idle": "2025-03-11T17:54:38.704785Z",
     "shell.execute_reply": "2025-03-11T17:54:38.703025Z"
    },
    "papermill": {
     "duration": 0.143461,
     "end_time": "2025-03-11T17:54:38.706844",
     "exception": false,
     "start_time": "2025-03-11T17:54:38.563383",
     "status": "completed"
    },
    "tags": []
   },
   "outputs": [
    {
     "name": "stdout",
     "output_type": "stream",
     "text": [
      "huggingface  input  lib  nbdev\tsrc  working\r\n"
     ]
    }
   ],
   "source": [
    "!ls .."
   ]
  },
  {
   "cell_type": "code",
   "execution_count": 29,
   "id": "64e73453",
   "metadata": {
    "execution": {
     "iopub.execute_input": "2025-03-11T17:54:38.720228Z",
     "iopub.status.busy": "2025-03-11T17:54:38.719827Z",
     "iopub.status.idle": "2025-03-11T17:54:38.725315Z",
     "shell.execute_reply": "2025-03-11T17:54:38.724393Z"
    },
    "papermill": {
     "duration": 0.013985,
     "end_time": "2025-03-11T17:54:38.727024",
     "exception": false,
     "start_time": "2025-03-11T17:54:38.713039",
     "status": "completed"
    },
    "tags": []
   },
   "outputs": [],
   "source": [
    "import os\n",
    "\n",
    "def list_files(startpath):\n",
    "    for root, dirs, files in os.walk(startpath):\n",
    "        level = root.replace(startpath, '').count(os.sep)\n",
    "        indent = ' ' * 4 * (level)\n",
    "        print('{}{}/'.format(indent, os.path.basename(root)))\n",
    "        subindent = ' ' * 4 * (level + 1)\n",
    "        for f in files:\n",
    "            print('{}{}'.format(subindent, f))"
   ]
  },
  {
   "cell_type": "code",
   "execution_count": 30,
   "id": "37f06fd5",
   "metadata": {
    "execution": {
     "iopub.execute_input": "2025-03-11T17:54:38.741033Z",
     "iopub.status.busy": "2025-03-11T17:54:38.740704Z",
     "iopub.status.idle": "2025-03-11T17:54:38.750966Z",
     "shell.execute_reply": "2025-03-11T17:54:38.749721Z"
    },
    "papermill": {
     "duration": 0.019423,
     "end_time": "2025-03-11T17:54:38.752524",
     "exception": false,
     "start_time": "2025-03-11T17:54:38.733101",
     "status": "completed"
    },
    "tags": []
   },
   "outputs": [
    {
     "name": "stdout",
     "output_type": "stream",
     "text": [
      "/\n",
      "src/\n",
      "    script.ipynb\n",
      "lib/\n",
      "    kaggle/\n",
      "        gcp.py\n",
      "input/\n",
      "    home-credit-default-risk/\n",
      "        sample_submission.csv\n",
      "        bureau_balance.csv\n",
      "        POS_CASH_balance.csv\n",
      "        application_train.csv\n",
      "        HomeCredit_columns_description.csv\n",
      "        application_test.csv\n",
      "        previous_application.csv\n",
      "        credit_card_balance.csv\n",
      "        installments_payments.csv\n",
      "        bureau.csv\n",
      "huggingface/\n",
      "    hf_scan.py\n",
      "nbdev/\n",
      "    settings.ini\n",
      "    export.sh\n",
      "working/\n",
      "    __notebook__.ipynb\n"
     ]
    }
   ],
   "source": [
    "list_files(\"/kaggle/\")"
   ]
  }
 ],
 "metadata": {
  "kaggle": {
   "accelerator": "none",
   "dataSources": [
    {
     "databundleVersionId": 860599,
     "sourceId": 9120,
     "sourceType": "competition"
    }
   ],
   "dockerImageVersionId": 30918,
   "isGpuEnabled": false,
   "isInternetEnabled": true,
   "language": "python",
   "sourceType": "notebook"
  },
  "kernelspec": {
   "display_name": "Python 3",
   "language": "python",
   "name": "python3"
  },
  "language_info": {
   "codemirror_mode": {
    "name": "ipython",
    "version": 3
   },
   "file_extension": ".py",
   "mimetype": "text/x-python",
   "name": "python",
   "nbconvert_exporter": "python",
   "pygments_lexer": "ipython3",
   "version": "3.10.12"
  },
  "papermill": {
   "default_parameters": {},
   "duration": 9.912124,
   "end_time": "2025-03-11T17:54:39.379323",
   "environment_variables": {},
   "exception": null,
   "input_path": "__notebook__.ipynb",
   "output_path": "__notebook__.ipynb",
   "parameters": {},
   "start_time": "2025-03-11T17:54:29.467199",
   "version": "2.6.0"
  }
 },
 "nbformat": 4,
 "nbformat_minor": 5
}
