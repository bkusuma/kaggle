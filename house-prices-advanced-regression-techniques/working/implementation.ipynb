{
 "cells": [
  {
   "cell_type": "code",
   "execution_count": 1,
   "metadata": {},
   "outputs": [],
   "source": [
    "src_path = '../src'\n",
    "\n",
    "import sys\n",
    "sys.path.insert(0, src_path)\n",
    "from src import load_data, porch_func, preprocess, model\n",
    "del sys.path[0]"
   ]
  },
  {
   "cell_type": "code",
   "execution_count": 2,
   "metadata": {},
   "outputs": [
    {
     "data": {
      "application/vnd.microsoft.datawrangler.viewer.v0+json": {
       "columns": [
        {
         "name": "index",
         "rawType": "int64",
         "type": "integer"
        },
        {
         "name": "Id",
         "rawType": "int64",
         "type": "integer"
        },
        {
         "name": "MSSubClass",
         "rawType": "int64",
         "type": "integer"
        },
        {
         "name": "MSZoning",
         "rawType": "object",
         "type": "string"
        },
        {
         "name": "LotFrontage",
         "rawType": "float64",
         "type": "float"
        },
        {
         "name": "LotArea",
         "rawType": "int64",
         "type": "integer"
        },
        {
         "name": "Street",
         "rawType": "object",
         "type": "string"
        },
        {
         "name": "Alley",
         "rawType": "object",
         "type": "unknown"
        },
        {
         "name": "LotShape",
         "rawType": "object",
         "type": "string"
        },
        {
         "name": "LandContour",
         "rawType": "object",
         "type": "string"
        },
        {
         "name": "Utilities",
         "rawType": "object",
         "type": "string"
        },
        {
         "name": "LotConfig",
         "rawType": "object",
         "type": "string"
        },
        {
         "name": "LandSlope",
         "rawType": "object",
         "type": "string"
        },
        {
         "name": "Neighborhood",
         "rawType": "object",
         "type": "string"
        },
        {
         "name": "Condition1",
         "rawType": "object",
         "type": "string"
        },
        {
         "name": "Condition2",
         "rawType": "object",
         "type": "string"
        },
        {
         "name": "BldgType",
         "rawType": "object",
         "type": "string"
        },
        {
         "name": "HouseStyle",
         "rawType": "object",
         "type": "string"
        },
        {
         "name": "OverallQual",
         "rawType": "int64",
         "type": "integer"
        },
        {
         "name": "OverallCond",
         "rawType": "int64",
         "type": "integer"
        },
        {
         "name": "YearBuilt",
         "rawType": "int64",
         "type": "integer"
        },
        {
         "name": "YearRemodAdd",
         "rawType": "int64",
         "type": "integer"
        },
        {
         "name": "RoofStyle",
         "rawType": "object",
         "type": "string"
        },
        {
         "name": "RoofMatl",
         "rawType": "object",
         "type": "string"
        },
        {
         "name": "Exterior1st",
         "rawType": "object",
         "type": "string"
        },
        {
         "name": "Exterior2nd",
         "rawType": "object",
         "type": "string"
        },
        {
         "name": "MasVnrType",
         "rawType": "object",
         "type": "unknown"
        },
        {
         "name": "MasVnrArea",
         "rawType": "float64",
         "type": "float"
        },
        {
         "name": "ExterQual",
         "rawType": "object",
         "type": "string"
        },
        {
         "name": "ExterCond",
         "rawType": "object",
         "type": "string"
        },
        {
         "name": "Foundation",
         "rawType": "object",
         "type": "string"
        },
        {
         "name": "BsmtQual",
         "rawType": "object",
         "type": "string"
        },
        {
         "name": "BsmtCond",
         "rawType": "object",
         "type": "string"
        },
        {
         "name": "BsmtExposure",
         "rawType": "object",
         "type": "string"
        },
        {
         "name": "BsmtFinType1",
         "rawType": "object",
         "type": "string"
        },
        {
         "name": "BsmtFinSF1",
         "rawType": "float64",
         "type": "float"
        },
        {
         "name": "BsmtFinType2",
         "rawType": "object",
         "type": "string"
        },
        {
         "name": "BsmtFinSF2",
         "rawType": "float64",
         "type": "float"
        },
        {
         "name": "BsmtUnfSF",
         "rawType": "float64",
         "type": "float"
        },
        {
         "name": "TotalBsmtSF",
         "rawType": "float64",
         "type": "float"
        },
        {
         "name": "Heating",
         "rawType": "object",
         "type": "string"
        },
        {
         "name": "HeatingQC",
         "rawType": "object",
         "type": "string"
        },
        {
         "name": "CentralAir",
         "rawType": "object",
         "type": "string"
        },
        {
         "name": "Electrical",
         "rawType": "object",
         "type": "string"
        },
        {
         "name": "1stFlrSF",
         "rawType": "int64",
         "type": "integer"
        },
        {
         "name": "2ndFlrSF",
         "rawType": "int64",
         "type": "integer"
        },
        {
         "name": "LowQualFinSF",
         "rawType": "int64",
         "type": "integer"
        },
        {
         "name": "GrLivArea",
         "rawType": "int64",
         "type": "integer"
        },
        {
         "name": "BsmtFullBath",
         "rawType": "float64",
         "type": "float"
        },
        {
         "name": "BsmtHalfBath",
         "rawType": "float64",
         "type": "float"
        },
        {
         "name": "FullBath",
         "rawType": "int64",
         "type": "integer"
        },
        {
         "name": "HalfBath",
         "rawType": "int64",
         "type": "integer"
        },
        {
         "name": "BedroomAbvGr",
         "rawType": "int64",
         "type": "integer"
        },
        {
         "name": "KitchenAbvGr",
         "rawType": "int64",
         "type": "integer"
        },
        {
         "name": "KitchenQual",
         "rawType": "object",
         "type": "string"
        },
        {
         "name": "TotRmsAbvGrd",
         "rawType": "int64",
         "type": "integer"
        },
        {
         "name": "Functional",
         "rawType": "object",
         "type": "string"
        },
        {
         "name": "Fireplaces",
         "rawType": "int64",
         "type": "integer"
        },
        {
         "name": "FireplaceQu",
         "rawType": "object",
         "type": "unknown"
        },
        {
         "name": "GarageType",
         "rawType": "object",
         "type": "string"
        },
        {
         "name": "GarageYrBlt",
         "rawType": "float64",
         "type": "float"
        },
        {
         "name": "GarageFinish",
         "rawType": "object",
         "type": "string"
        },
        {
         "name": "GarageCars",
         "rawType": "float64",
         "type": "float"
        },
        {
         "name": "GarageArea",
         "rawType": "float64",
         "type": "float"
        },
        {
         "name": "GarageQual",
         "rawType": "object",
         "type": "string"
        },
        {
         "name": "GarageCond",
         "rawType": "object",
         "type": "string"
        },
        {
         "name": "PavedDrive",
         "rawType": "object",
         "type": "string"
        },
        {
         "name": "WoodDeckSF",
         "rawType": "int64",
         "type": "integer"
        },
        {
         "name": "OpenPorchSF",
         "rawType": "int64",
         "type": "integer"
        },
        {
         "name": "EnclosedPorch",
         "rawType": "int64",
         "type": "integer"
        },
        {
         "name": "3SsnPorch",
         "rawType": "int64",
         "type": "integer"
        },
        {
         "name": "ScreenPorch",
         "rawType": "int64",
         "type": "integer"
        },
        {
         "name": "PoolArea",
         "rawType": "int64",
         "type": "integer"
        },
        {
         "name": "PoolQC",
         "rawType": "object",
         "type": "unknown"
        },
        {
         "name": "Fence",
         "rawType": "object",
         "type": "unknown"
        },
        {
         "name": "MiscFeature",
         "rawType": "object",
         "type": "unknown"
        },
        {
         "name": "MiscVal",
         "rawType": "int64",
         "type": "integer"
        },
        {
         "name": "MoSold",
         "rawType": "int64",
         "type": "integer"
        },
        {
         "name": "YrSold",
         "rawType": "int64",
         "type": "integer"
        },
        {
         "name": "SaleType",
         "rawType": "object",
         "type": "string"
        },
        {
         "name": "SaleCondition",
         "rawType": "object",
         "type": "string"
        }
       ],
       "conversionMethod": "pd.DataFrame",
       "ref": "36916f67-b830-4f7b-b585-444fa8c2b41c",
       "rows": [
        [
         "0",
         "1461",
         "20",
         "RH",
         "80.0",
         "11622",
         "Pave",
         null,
         "Reg",
         "Lvl",
         "AllPub",
         "Inside",
         "Gtl",
         "NAmes",
         "Feedr",
         "Norm",
         "1Fam",
         "1Story",
         "5",
         "6",
         "1961",
         "1961",
         "Gable",
         "CompShg",
         "VinylSd",
         "VinylSd",
         null,
         "0.0",
         "TA",
         "TA",
         "CBlock",
         "TA",
         "TA",
         "No",
         "Rec",
         "468.0",
         "LwQ",
         "144.0",
         "270.0",
         "882.0",
         "GasA",
         "TA",
         "Y",
         "SBrkr",
         "896",
         "0",
         "0",
         "896",
         "0.0",
         "0.0",
         "1",
         "0",
         "2",
         "1",
         "TA",
         "5",
         "Typ",
         "0",
         null,
         "Attchd",
         "1961.0",
         "Unf",
         "1.0",
         "730.0",
         "TA",
         "TA",
         "Y",
         "140",
         "0",
         "0",
         "0",
         "120",
         "0",
         null,
         "MnPrv",
         null,
         "0",
         "6",
         "2010",
         "WD",
         "Normal"
        ],
        [
         "1",
         "1462",
         "20",
         "RL",
         "81.0",
         "14267",
         "Pave",
         null,
         "IR1",
         "Lvl",
         "AllPub",
         "Corner",
         "Gtl",
         "NAmes",
         "Norm",
         "Norm",
         "1Fam",
         "1Story",
         "6",
         "6",
         "1958",
         "1958",
         "Hip",
         "CompShg",
         "Wd Sdng",
         "Wd Sdng",
         "BrkFace",
         "108.0",
         "TA",
         "TA",
         "CBlock",
         "TA",
         "TA",
         "No",
         "ALQ",
         "923.0",
         "Unf",
         "0.0",
         "406.0",
         "1329.0",
         "GasA",
         "TA",
         "Y",
         "SBrkr",
         "1329",
         "0",
         "0",
         "1329",
         "0.0",
         "0.0",
         "1",
         "1",
         "3",
         "1",
         "Gd",
         "6",
         "Typ",
         "0",
         null,
         "Attchd",
         "1958.0",
         "Unf",
         "1.0",
         "312.0",
         "TA",
         "TA",
         "Y",
         "393",
         "36",
         "0",
         "0",
         "0",
         "0",
         null,
         null,
         "Gar2",
         "12500",
         "6",
         "2010",
         "WD",
         "Normal"
        ],
        [
         "2",
         "1463",
         "60",
         "RL",
         "74.0",
         "13830",
         "Pave",
         null,
         "IR1",
         "Lvl",
         "AllPub",
         "Inside",
         "Gtl",
         "Gilbert",
         "Norm",
         "Norm",
         "1Fam",
         "2Story",
         "5",
         "5",
         "1997",
         "1998",
         "Gable",
         "CompShg",
         "VinylSd",
         "VinylSd",
         null,
         "0.0",
         "TA",
         "TA",
         "PConc",
         "Gd",
         "TA",
         "No",
         "GLQ",
         "791.0",
         "Unf",
         "0.0",
         "137.0",
         "928.0",
         "GasA",
         "Gd",
         "Y",
         "SBrkr",
         "928",
         "701",
         "0",
         "1629",
         "0.0",
         "0.0",
         "2",
         "1",
         "3",
         "1",
         "TA",
         "6",
         "Typ",
         "1",
         "TA",
         "Attchd",
         "1997.0",
         "Fin",
         "2.0",
         "482.0",
         "TA",
         "TA",
         "Y",
         "212",
         "34",
         "0",
         "0",
         "0",
         "0",
         null,
         "MnPrv",
         null,
         "0",
         "3",
         "2010",
         "WD",
         "Normal"
        ],
        [
         "3",
         "1464",
         "60",
         "RL",
         "78.0",
         "9978",
         "Pave",
         null,
         "IR1",
         "Lvl",
         "AllPub",
         "Inside",
         "Gtl",
         "Gilbert",
         "Norm",
         "Norm",
         "1Fam",
         "2Story",
         "6",
         "6",
         "1998",
         "1998",
         "Gable",
         "CompShg",
         "VinylSd",
         "VinylSd",
         "BrkFace",
         "20.0",
         "TA",
         "TA",
         "PConc",
         "TA",
         "TA",
         "No",
         "GLQ",
         "602.0",
         "Unf",
         "0.0",
         "324.0",
         "926.0",
         "GasA",
         "Ex",
         "Y",
         "SBrkr",
         "926",
         "678",
         "0",
         "1604",
         "0.0",
         "0.0",
         "2",
         "1",
         "3",
         "1",
         "Gd",
         "7",
         "Typ",
         "1",
         "Gd",
         "Attchd",
         "1998.0",
         "Fin",
         "2.0",
         "470.0",
         "TA",
         "TA",
         "Y",
         "360",
         "36",
         "0",
         "0",
         "0",
         "0",
         null,
         null,
         null,
         "0",
         "6",
         "2010",
         "WD",
         "Normal"
        ],
        [
         "4",
         "1465",
         "120",
         "RL",
         "43.0",
         "5005",
         "Pave",
         null,
         "IR1",
         "HLS",
         "AllPub",
         "Inside",
         "Gtl",
         "StoneBr",
         "Norm",
         "Norm",
         "TwnhsE",
         "1Story",
         "8",
         "5",
         "1992",
         "1992",
         "Gable",
         "CompShg",
         "HdBoard",
         "HdBoard",
         null,
         "0.0",
         "Gd",
         "TA",
         "PConc",
         "Gd",
         "TA",
         "No",
         "ALQ",
         "263.0",
         "Unf",
         "0.0",
         "1017.0",
         "1280.0",
         "GasA",
         "Ex",
         "Y",
         "SBrkr",
         "1280",
         "0",
         "0",
         "1280",
         "0.0",
         "0.0",
         "2",
         "0",
         "2",
         "1",
         "Gd",
         "5",
         "Typ",
         "0",
         null,
         "Attchd",
         "1992.0",
         "RFn",
         "2.0",
         "506.0",
         "TA",
         "TA",
         "Y",
         "0",
         "82",
         "0",
         "0",
         "144",
         "0",
         null,
         null,
         null,
         "0",
         "1",
         "2010",
         "WD",
         "Normal"
        ]
       ],
       "shape": {
        "columns": 80,
        "rows": 5
       }
      },
      "text/html": [
       "<div>\n",
       "<style scoped>\n",
       "    .dataframe tbody tr th:only-of-type {\n",
       "        vertical-align: middle;\n",
       "    }\n",
       "\n",
       "    .dataframe tbody tr th {\n",
       "        vertical-align: top;\n",
       "    }\n",
       "\n",
       "    .dataframe thead th {\n",
       "        text-align: right;\n",
       "    }\n",
       "</style>\n",
       "<table border=\"1\" class=\"dataframe\">\n",
       "  <thead>\n",
       "    <tr style=\"text-align: right;\">\n",
       "      <th></th>\n",
       "      <th>Id</th>\n",
       "      <th>MSSubClass</th>\n",
       "      <th>MSZoning</th>\n",
       "      <th>LotFrontage</th>\n",
       "      <th>LotArea</th>\n",
       "      <th>Street</th>\n",
       "      <th>Alley</th>\n",
       "      <th>LotShape</th>\n",
       "      <th>LandContour</th>\n",
       "      <th>Utilities</th>\n",
       "      <th>...</th>\n",
       "      <th>ScreenPorch</th>\n",
       "      <th>PoolArea</th>\n",
       "      <th>PoolQC</th>\n",
       "      <th>Fence</th>\n",
       "      <th>MiscFeature</th>\n",
       "      <th>MiscVal</th>\n",
       "      <th>MoSold</th>\n",
       "      <th>YrSold</th>\n",
       "      <th>SaleType</th>\n",
       "      <th>SaleCondition</th>\n",
       "    </tr>\n",
       "  </thead>\n",
       "  <tbody>\n",
       "    <tr>\n",
       "      <th>0</th>\n",
       "      <td>1461</td>\n",
       "      <td>20</td>\n",
       "      <td>RH</td>\n",
       "      <td>80.0</td>\n",
       "      <td>11622</td>\n",
       "      <td>Pave</td>\n",
       "      <td>NaN</td>\n",
       "      <td>Reg</td>\n",
       "      <td>Lvl</td>\n",
       "      <td>AllPub</td>\n",
       "      <td>...</td>\n",
       "      <td>120</td>\n",
       "      <td>0</td>\n",
       "      <td>NaN</td>\n",
       "      <td>MnPrv</td>\n",
       "      <td>NaN</td>\n",
       "      <td>0</td>\n",
       "      <td>6</td>\n",
       "      <td>2010</td>\n",
       "      <td>WD</td>\n",
       "      <td>Normal</td>\n",
       "    </tr>\n",
       "    <tr>\n",
       "      <th>1</th>\n",
       "      <td>1462</td>\n",
       "      <td>20</td>\n",
       "      <td>RL</td>\n",
       "      <td>81.0</td>\n",
       "      <td>14267</td>\n",
       "      <td>Pave</td>\n",
       "      <td>NaN</td>\n",
       "      <td>IR1</td>\n",
       "      <td>Lvl</td>\n",
       "      <td>AllPub</td>\n",
       "      <td>...</td>\n",
       "      <td>0</td>\n",
       "      <td>0</td>\n",
       "      <td>NaN</td>\n",
       "      <td>NaN</td>\n",
       "      <td>Gar2</td>\n",
       "      <td>12500</td>\n",
       "      <td>6</td>\n",
       "      <td>2010</td>\n",
       "      <td>WD</td>\n",
       "      <td>Normal</td>\n",
       "    </tr>\n",
       "    <tr>\n",
       "      <th>2</th>\n",
       "      <td>1463</td>\n",
       "      <td>60</td>\n",
       "      <td>RL</td>\n",
       "      <td>74.0</td>\n",
       "      <td>13830</td>\n",
       "      <td>Pave</td>\n",
       "      <td>NaN</td>\n",
       "      <td>IR1</td>\n",
       "      <td>Lvl</td>\n",
       "      <td>AllPub</td>\n",
       "      <td>...</td>\n",
       "      <td>0</td>\n",
       "      <td>0</td>\n",
       "      <td>NaN</td>\n",
       "      <td>MnPrv</td>\n",
       "      <td>NaN</td>\n",
       "      <td>0</td>\n",
       "      <td>3</td>\n",
       "      <td>2010</td>\n",
       "      <td>WD</td>\n",
       "      <td>Normal</td>\n",
       "    </tr>\n",
       "    <tr>\n",
       "      <th>3</th>\n",
       "      <td>1464</td>\n",
       "      <td>60</td>\n",
       "      <td>RL</td>\n",
       "      <td>78.0</td>\n",
       "      <td>9978</td>\n",
       "      <td>Pave</td>\n",
       "      <td>NaN</td>\n",
       "      <td>IR1</td>\n",
       "      <td>Lvl</td>\n",
       "      <td>AllPub</td>\n",
       "      <td>...</td>\n",
       "      <td>0</td>\n",
       "      <td>0</td>\n",
       "      <td>NaN</td>\n",
       "      <td>NaN</td>\n",
       "      <td>NaN</td>\n",
       "      <td>0</td>\n",
       "      <td>6</td>\n",
       "      <td>2010</td>\n",
       "      <td>WD</td>\n",
       "      <td>Normal</td>\n",
       "    </tr>\n",
       "    <tr>\n",
       "      <th>4</th>\n",
       "      <td>1465</td>\n",
       "      <td>120</td>\n",
       "      <td>RL</td>\n",
       "      <td>43.0</td>\n",
       "      <td>5005</td>\n",
       "      <td>Pave</td>\n",
       "      <td>NaN</td>\n",
       "      <td>IR1</td>\n",
       "      <td>HLS</td>\n",
       "      <td>AllPub</td>\n",
       "      <td>...</td>\n",
       "      <td>144</td>\n",
       "      <td>0</td>\n",
       "      <td>NaN</td>\n",
       "      <td>NaN</td>\n",
       "      <td>NaN</td>\n",
       "      <td>0</td>\n",
       "      <td>1</td>\n",
       "      <td>2010</td>\n",
       "      <td>WD</td>\n",
       "      <td>Normal</td>\n",
       "    </tr>\n",
       "  </tbody>\n",
       "</table>\n",
       "<p>5 rows × 80 columns</p>\n",
       "</div>"
      ],
      "text/plain": [
       "     Id  MSSubClass MSZoning  LotFrontage  LotArea Street Alley LotShape  \\\n",
       "0  1461          20       RH         80.0    11622   Pave   NaN      Reg   \n",
       "1  1462          20       RL         81.0    14267   Pave   NaN      IR1   \n",
       "2  1463          60       RL         74.0    13830   Pave   NaN      IR1   \n",
       "3  1464          60       RL         78.0     9978   Pave   NaN      IR1   \n",
       "4  1465         120       RL         43.0     5005   Pave   NaN      IR1   \n",
       "\n",
       "  LandContour Utilities  ... ScreenPorch PoolArea PoolQC  Fence MiscFeature  \\\n",
       "0         Lvl    AllPub  ...         120        0    NaN  MnPrv         NaN   \n",
       "1         Lvl    AllPub  ...           0        0    NaN    NaN        Gar2   \n",
       "2         Lvl    AllPub  ...           0        0    NaN  MnPrv         NaN   \n",
       "3         Lvl    AllPub  ...           0        0    NaN    NaN         NaN   \n",
       "4         HLS    AllPub  ...         144        0    NaN    NaN         NaN   \n",
       "\n",
       "  MiscVal MoSold  YrSold  SaleType  SaleCondition  \n",
       "0       0      6    2010        WD         Normal  \n",
       "1   12500      6    2010        WD         Normal  \n",
       "2       0      3    2010        WD         Normal  \n",
       "3       0      6    2010        WD         Normal  \n",
       "4       0      1    2010        WD         Normal  \n",
       "\n",
       "[5 rows x 80 columns]"
      ]
     },
     "execution_count": 2,
     "metadata": {},
     "output_type": "execute_result"
    }
   ],
   "source": [
    "houses = load_data()\n",
    "houses.head()"
   ]
  },
  {
   "cell_type": "code",
   "execution_count": 3,
   "metadata": {},
   "outputs": [
    {
     "data": {
      "application/vnd.microsoft.datawrangler.viewer.v0+json": {
       "columns": [
        {
         "name": "index",
         "rawType": "int64",
         "type": "integer"
        },
        {
         "name": "Id",
         "rawType": "int64",
         "type": "integer"
        },
        {
         "name": "MiscVal",
         "rawType": "float64",
         "type": "float"
        },
        {
         "name": "YrSold",
         "rawType": "float64",
         "type": "float"
        },
        {
         "name": "PoolArea",
         "rawType": "float64",
         "type": "float"
        },
        {
         "name": "GarageCars",
         "rawType": "float64",
         "type": "float"
        },
        {
         "name": "GarageArea",
         "rawType": "float64",
         "type": "float"
        },
        {
         "name": "GarageYrBlt",
         "rawType": "float64",
         "type": "float"
        },
        {
         "name": "Fireplaces",
         "rawType": "float64",
         "type": "float"
        },
        {
         "name": "TotRmsAbvGrd",
         "rawType": "float64",
         "type": "float"
        },
        {
         "name": "1stFlrSF",
         "rawType": "float64",
         "type": "float"
        },
        {
         "name": "2ndFlrSF",
         "rawType": "float64",
         "type": "float"
        },
        {
         "name": "LowQualFinSF",
         "rawType": "float64",
         "type": "float"
        },
        {
         "name": "GrLivArea",
         "rawType": "float64",
         "type": "float"
        },
        {
         "name": "BsmtFullBath",
         "rawType": "float64",
         "type": "float"
        },
        {
         "name": "BsmtHalfBath",
         "rawType": "float64",
         "type": "float"
        },
        {
         "name": "FullBath",
         "rawType": "float64",
         "type": "float"
        },
        {
         "name": "HalfBath",
         "rawType": "float64",
         "type": "float"
        },
        {
         "name": "BedroomAbvGr",
         "rawType": "float64",
         "type": "float"
        },
        {
         "name": "KitchenAbvGr",
         "rawType": "float64",
         "type": "float"
        },
        {
         "name": "BsmtFinSF1",
         "rawType": "float64",
         "type": "float"
        },
        {
         "name": "BsmtFinSF2",
         "rawType": "float64",
         "type": "float"
        },
        {
         "name": "BsmtUnfSF",
         "rawType": "float64",
         "type": "float"
        },
        {
         "name": "TotalBsmtSF",
         "rawType": "float64",
         "type": "float"
        },
        {
         "name": "MasVnrArea",
         "rawType": "float64",
         "type": "float"
        },
        {
         "name": "LotFrontage",
         "rawType": "float64",
         "type": "float"
        },
        {
         "name": "LotArea",
         "rawType": "float64",
         "type": "float"
        },
        {
         "name": "YearBuilt",
         "rawType": "float64",
         "type": "float"
        },
        {
         "name": "YearRemodAdd",
         "rawType": "float64",
         "type": "float"
        },
        {
         "name": "OverallQual",
         "rawType": "float64",
         "type": "float"
        },
        {
         "name": "OverallCond",
         "rawType": "float64",
         "type": "float"
        },
        {
         "name": "MoSold_1",
         "rawType": "float64",
         "type": "float"
        },
        {
         "name": "MoSold_2",
         "rawType": "float64",
         "type": "float"
        },
        {
         "name": "MoSold_3",
         "rawType": "float64",
         "type": "float"
        },
        {
         "name": "MoSold_4",
         "rawType": "float64",
         "type": "float"
        },
        {
         "name": "MoSold_5",
         "rawType": "float64",
         "type": "float"
        },
        {
         "name": "MoSold_6",
         "rawType": "float64",
         "type": "float"
        },
        {
         "name": "MoSold_7",
         "rawType": "float64",
         "type": "float"
        },
        {
         "name": "MoSold_8",
         "rawType": "float64",
         "type": "float"
        },
        {
         "name": "MoSold_9",
         "rawType": "float64",
         "type": "float"
        },
        {
         "name": "MoSold_10",
         "rawType": "float64",
         "type": "float"
        },
        {
         "name": "MoSold_11",
         "rawType": "float64",
         "type": "float"
        },
        {
         "name": "MoSold_12",
         "rawType": "float64",
         "type": "float"
        },
        {
         "name": "GarageFinish_Fin",
         "rawType": "float64",
         "type": "float"
        },
        {
         "name": "GarageFinish_Missing",
         "rawType": "float64",
         "type": "float"
        },
        {
         "name": "GarageFinish_RFn",
         "rawType": "float64",
         "type": "float"
        },
        {
         "name": "GarageFinish_Unf",
         "rawType": "float64",
         "type": "float"
        },
        {
         "name": "CentralAir_N",
         "rawType": "float64",
         "type": "float"
        },
        {
         "name": "CentralAir_Y",
         "rawType": "float64",
         "type": "float"
        },
        {
         "name": "Street_Grvl",
         "rawType": "float64",
         "type": "float"
        },
        {
         "name": "Street_Pave",
         "rawType": "float64",
         "type": "float"
        },
        {
         "name": "Alley_Grvl",
         "rawType": "float64",
         "type": "float"
        },
        {
         "name": "Alley_Missing",
         "rawType": "float64",
         "type": "float"
        },
        {
         "name": "Alley_Pave",
         "rawType": "float64",
         "type": "float"
        },
        {
         "name": "LotShape_IR1",
         "rawType": "float64",
         "type": "float"
        },
        {
         "name": "LotShape_IR2",
         "rawType": "float64",
         "type": "float"
        },
        {
         "name": "LotShape_IR3",
         "rawType": "float64",
         "type": "float"
        },
        {
         "name": "LotShape_Reg",
         "rawType": "float64",
         "type": "float"
        },
        {
         "name": "Utilities_AllPub",
         "rawType": "float64",
         "type": "float"
        },
        {
         "name": "Utilities_NoSeWa",
         "rawType": "float64",
         "type": "float"
        },
        {
         "name": "LandContour_Bnk",
         "rawType": "float64",
         "type": "float"
        },
        {
         "name": "LandContour_HLS",
         "rawType": "float64",
         "type": "float"
        },
        {
         "name": "LandContour_Low",
         "rawType": "float64",
         "type": "float"
        },
        {
         "name": "LandContour_Lvl",
         "rawType": "float64",
         "type": "float"
        },
        {
         "name": "LotConfig_Corner",
         "rawType": "float64",
         "type": "float"
        },
        {
         "name": "LotConfig_CulDSac",
         "rawType": "float64",
         "type": "float"
        },
        {
         "name": "LotConfig_FR2",
         "rawType": "float64",
         "type": "float"
        },
        {
         "name": "LotConfig_FR3",
         "rawType": "float64",
         "type": "float"
        },
        {
         "name": "LotConfig_Inside",
         "rawType": "float64",
         "type": "float"
        },
        {
         "name": "LandSlope_Gtl",
         "rawType": "float64",
         "type": "float"
        },
        {
         "name": "LandSlope_Mod",
         "rawType": "float64",
         "type": "float"
        },
        {
         "name": "LandSlope_Sev",
         "rawType": "float64",
         "type": "float"
        },
        {
         "name": "porch_cols",
         "rawType": "int64",
         "type": "integer"
        },
        {
         "name": "col_0",
         "rawType": "int64",
         "type": "integer"
        },
        {
         "name": "col_1",
         "rawType": "int64",
         "type": "integer"
        },
        {
         "name": "col_2",
         "rawType": "int64",
         "type": "integer"
        },
        {
         "name": "col_3",
         "rawType": "int64",
         "type": "integer"
        },
        {
         "name": "col_4",
         "rawType": "int64",
         "type": "integer"
        },
        {
         "name": "col_5",
         "rawType": "int64",
         "type": "integer"
        },
        {
         "name": "Fence",
         "rawType": "int64",
         "type": "integer"
        },
        {
         "name": "PavedDrive",
         "rawType": "int64",
         "type": "integer"
        },
        {
         "name": "Functional",
         "rawType": "int64",
         "type": "integer"
        },
        {
         "name": "Electrical",
         "rawType": "int64",
         "type": "integer"
        },
        {
         "name": "BsmtExposure",
         "rawType": "int64",
         "type": "integer"
        },
        {
         "name": "HeatingQC",
         "rawType": "int64",
         "type": "integer"
        },
        {
         "name": "KitchenQual",
         "rawType": "int64",
         "type": "integer"
        },
        {
         "name": "GarageCond",
         "rawType": "int64",
         "type": "integer"
        },
        {
         "name": "GarageQual",
         "rawType": "int64",
         "type": "integer"
        },
        {
         "name": "FireplaceQu",
         "rawType": "int64",
         "type": "integer"
        },
        {
         "name": "BsmtQual",
         "rawType": "int64",
         "type": "integer"
        },
        {
         "name": "BsmtCond",
         "rawType": "int64",
         "type": "integer"
        },
        {
         "name": "ExterCond",
         "rawType": "int64",
         "type": "integer"
        },
        {
         "name": "ExterQual",
         "rawType": "int64",
         "type": "integer"
        },
        {
         "name": "PoolQC",
         "rawType": "int64",
         "type": "integer"
        }
       ],
       "conversionMethod": "pd.DataFrame",
       "ref": "072ce8df-2a60-4341-a137-32b9bb394521",
       "rows": [
        [
         "0",
         "1461",
         "0.0",
         "2010.0",
         "0.0",
         "1.0",
         "730.0",
         "1961.0",
         "0.0",
         "5.0",
         "896.0",
         "0.0",
         "0.0",
         "896.0",
         "0.0",
         "0.0",
         "1.0",
         "0.0",
         "2.0",
         "1.0",
         "468.0",
         "144.0",
         "270.0",
         "882.0",
         "0.0",
         "80.0",
         "11622.0",
         "1961.0",
         "1961.0",
         "5.0",
         "6.0",
         "0.0",
         "0.0",
         "0.0",
         "0.0",
         "0.0",
         "1.0",
         "0.0",
         "0.0",
         "0.0",
         "0.0",
         "0.0",
         "0.0",
         "0.0",
         "0.0",
         "0.0",
         "1.0",
         "0.0",
         "1.0",
         "0.0",
         "1.0",
         "0.0",
         "1.0",
         "0.0",
         "0.0",
         "0.0",
         "0.0",
         "1.0",
         "1.0",
         "0.0",
         "0.0",
         "0.0",
         "0.0",
         "1.0",
         "0.0",
         "0.0",
         "0.0",
         "0.0",
         "1.0",
         "1.0",
         "0.0",
         "0.0",
         "260",
         "4",
         "1",
         "2",
         "2",
         "2",
         "7",
         "3",
         "3",
         "0",
         "2",
         "1",
         "3",
         "3",
         "3",
         "3",
         "0",
         "3",
         "3",
         "3",
         "3",
         "0"
        ],
        [
         "1",
         "1462",
         "12500.0",
         "2010.0",
         "0.0",
         "1.0",
         "312.0",
         "1958.0",
         "0.0",
         "6.0",
         "1329.0",
         "0.0",
         "0.0",
         "1329.0",
         "0.0",
         "0.0",
         "1.0",
         "1.0",
         "3.0",
         "1.0",
         "923.0",
         "0.0",
         "406.0",
         "1329.0",
         "108.0",
         "81.0",
         "14267.0",
         "1958.0",
         "1958.0",
         "6.0",
         "6.0",
         "0.0",
         "0.0",
         "0.0",
         "0.0",
         "0.0",
         "1.0",
         "0.0",
         "0.0",
         "0.0",
         "0.0",
         "0.0",
         "0.0",
         "0.0",
         "0.0",
         "0.0",
         "1.0",
         "0.0",
         "1.0",
         "0.0",
         "1.0",
         "0.0",
         "1.0",
         "0.0",
         "1.0",
         "0.0",
         "0.0",
         "0.0",
         "1.0",
         "0.0",
         "0.0",
         "0.0",
         "0.0",
         "1.0",
         "1.0",
         "0.0",
         "0.0",
         "0.0",
         "0.0",
         "1.0",
         "0.0",
         "0.0",
         "429",
         "3",
         "5",
         "2",
         "2",
         "2",
         "4",
         "0",
         "3",
         "0",
         "2",
         "1",
         "3",
         "4",
         "3",
         "3",
         "0",
         "3",
         "3",
         "3",
         "3",
         "0"
        ],
        [
         "2",
         "1463",
         "0.0",
         "2010.0",
         "0.0",
         "2.0",
         "482.0",
         "1997.0",
         "1.0",
         "6.0",
         "928.0",
         "701.0",
         "0.0",
         "1629.0",
         "0.0",
         "0.0",
         "2.0",
         "1.0",
         "3.0",
         "1.0",
         "791.0",
         "0.0",
         "137.0",
         "928.0",
         "0.0",
         "74.0",
         "13830.0",
         "1997.0",
         "1998.0",
         "5.0",
         "5.0",
         "0.0",
         "0.0",
         "1.0",
         "0.0",
         "0.0",
         "0.0",
         "0.0",
         "0.0",
         "0.0",
         "0.0",
         "0.0",
         "0.0",
         "1.0",
         "0.0",
         "0.0",
         "0.0",
         "0.0",
         "1.0",
         "0.0",
         "1.0",
         "0.0",
         "1.0",
         "0.0",
         "1.0",
         "0.0",
         "0.0",
         "0.0",
         "1.0",
         "0.0",
         "0.0",
         "0.0",
         "0.0",
         "1.0",
         "0.0",
         "0.0",
         "0.0",
         "0.0",
         "1.0",
         "1.0",
         "0.0",
         "0.0",
         "246",
         "5",
         "2",
         "2",
         "3",
         "0",
         "6",
         "3",
         "3",
         "0",
         "2",
         "1",
         "4",
         "3",
         "3",
         "3",
         "3",
         "4",
         "3",
         "3",
         "3",
         "0"
        ],
        [
         "3",
         "1464",
         "0.0",
         "2010.0",
         "0.0",
         "2.0",
         "470.0",
         "1998.0",
         "1.0",
         "7.0",
         "926.0",
         "678.0",
         "0.0",
         "1604.0",
         "0.0",
         "0.0",
         "2.0",
         "1.0",
         "3.0",
         "1.0",
         "602.0",
         "0.0",
         "324.0",
         "926.0",
         "20.0",
         "78.0",
         "9978.0",
         "1998.0",
         "1998.0",
         "6.0",
         "6.0",
         "0.0",
         "0.0",
         "0.0",
         "0.0",
         "0.0",
         "1.0",
         "0.0",
         "0.0",
         "0.0",
         "0.0",
         "0.0",
         "0.0",
         "1.0",
         "0.0",
         "0.0",
         "0.0",
         "0.0",
         "1.0",
         "0.0",
         "1.0",
         "0.0",
         "1.0",
         "0.0",
         "1.0",
         "0.0",
         "0.0",
         "0.0",
         "1.0",
         "0.0",
         "0.0",
         "0.0",
         "0.0",
         "1.0",
         "0.0",
         "0.0",
         "0.0",
         "0.0",
         "1.0",
         "1.0",
         "0.0",
         "0.0",
         "396",
         "4",
         "3",
         "2",
         "3",
         "0",
         "6",
         "0",
         "3",
         "0",
         "2",
         "1",
         "5",
         "4",
         "3",
         "3",
         "4",
         "3",
         "3",
         "3",
         "3",
         "0"
        ],
        [
         "4",
         "1465",
         "0.0",
         "2010.0",
         "0.0",
         "2.0",
         "506.0",
         "1992.0",
         "0.0",
         "5.0",
         "1280.0",
         "0.0",
         "0.0",
         "1280.0",
         "0.0",
         "0.0",
         "2.0",
         "0.0",
         "2.0",
         "1.0",
         "263.0",
         "0.0",
         "1017.0",
         "1280.0",
         "0.0",
         "43.0",
         "5005.0",
         "1992.0",
         "1992.0",
         "8.0",
         "5.0",
         "1.0",
         "0.0",
         "0.0",
         "0.0",
         "0.0",
         "0.0",
         "0.0",
         "0.0",
         "0.0",
         "0.0",
         "0.0",
         "0.0",
         "0.0",
         "0.0",
         "1.0",
         "0.0",
         "0.0",
         "1.0",
         "0.0",
         "1.0",
         "0.0",
         "1.0",
         "0.0",
         "1.0",
         "0.0",
         "0.0",
         "0.0",
         "1.0",
         "0.0",
         "0.0",
         "1.0",
         "0.0",
         "0.0",
         "0.0",
         "0.0",
         "0.0",
         "0.0",
         "1.0",
         "1.0",
         "0.0",
         "0.0",
         "226",
         "4",
         "2",
         "2",
         "4",
         "2",
         "4",
         "0",
         "3",
         "0",
         "2",
         "1",
         "5",
         "4",
         "3",
         "3",
         "0",
         "4",
         "3",
         "3",
         "4",
         "0"
        ]
       ],
       "shape": {
        "columns": 93,
        "rows": 5
       }
      },
      "text/html": [
       "<div>\n",
       "<style scoped>\n",
       "    .dataframe tbody tr th:only-of-type {\n",
       "        vertical-align: middle;\n",
       "    }\n",
       "\n",
       "    .dataframe tbody tr th {\n",
       "        vertical-align: top;\n",
       "    }\n",
       "\n",
       "    .dataframe thead th {\n",
       "        text-align: right;\n",
       "    }\n",
       "</style>\n",
       "<table border=\"1\" class=\"dataframe\">\n",
       "  <thead>\n",
       "    <tr style=\"text-align: right;\">\n",
       "      <th></th>\n",
       "      <th>Id</th>\n",
       "      <th>MiscVal</th>\n",
       "      <th>YrSold</th>\n",
       "      <th>PoolArea</th>\n",
       "      <th>GarageCars</th>\n",
       "      <th>GarageArea</th>\n",
       "      <th>GarageYrBlt</th>\n",
       "      <th>Fireplaces</th>\n",
       "      <th>TotRmsAbvGrd</th>\n",
       "      <th>1stFlrSF</th>\n",
       "      <th>...</th>\n",
       "      <th>HeatingQC</th>\n",
       "      <th>KitchenQual</th>\n",
       "      <th>GarageCond</th>\n",
       "      <th>GarageQual</th>\n",
       "      <th>FireplaceQu</th>\n",
       "      <th>BsmtQual</th>\n",
       "      <th>BsmtCond</th>\n",
       "      <th>ExterCond</th>\n",
       "      <th>ExterQual</th>\n",
       "      <th>PoolQC</th>\n",
       "    </tr>\n",
       "  </thead>\n",
       "  <tbody>\n",
       "    <tr>\n",
       "      <th>0</th>\n",
       "      <td>1461</td>\n",
       "      <td>0.0</td>\n",
       "      <td>2010.0</td>\n",
       "      <td>0.0</td>\n",
       "      <td>1.0</td>\n",
       "      <td>730.0</td>\n",
       "      <td>1961.0</td>\n",
       "      <td>0.0</td>\n",
       "      <td>5.0</td>\n",
       "      <td>896.0</td>\n",
       "      <td>...</td>\n",
       "      <td>3</td>\n",
       "      <td>3</td>\n",
       "      <td>3</td>\n",
       "      <td>3</td>\n",
       "      <td>0</td>\n",
       "      <td>3</td>\n",
       "      <td>3</td>\n",
       "      <td>3</td>\n",
       "      <td>3</td>\n",
       "      <td>0</td>\n",
       "    </tr>\n",
       "    <tr>\n",
       "      <th>1</th>\n",
       "      <td>1462</td>\n",
       "      <td>12500.0</td>\n",
       "      <td>2010.0</td>\n",
       "      <td>0.0</td>\n",
       "      <td>1.0</td>\n",
       "      <td>312.0</td>\n",
       "      <td>1958.0</td>\n",
       "      <td>0.0</td>\n",
       "      <td>6.0</td>\n",
       "      <td>1329.0</td>\n",
       "      <td>...</td>\n",
       "      <td>3</td>\n",
       "      <td>4</td>\n",
       "      <td>3</td>\n",
       "      <td>3</td>\n",
       "      <td>0</td>\n",
       "      <td>3</td>\n",
       "      <td>3</td>\n",
       "      <td>3</td>\n",
       "      <td>3</td>\n",
       "      <td>0</td>\n",
       "    </tr>\n",
       "    <tr>\n",
       "      <th>2</th>\n",
       "      <td>1463</td>\n",
       "      <td>0.0</td>\n",
       "      <td>2010.0</td>\n",
       "      <td>0.0</td>\n",
       "      <td>2.0</td>\n",
       "      <td>482.0</td>\n",
       "      <td>1997.0</td>\n",
       "      <td>1.0</td>\n",
       "      <td>6.0</td>\n",
       "      <td>928.0</td>\n",
       "      <td>...</td>\n",
       "      <td>4</td>\n",
       "      <td>3</td>\n",
       "      <td>3</td>\n",
       "      <td>3</td>\n",
       "      <td>3</td>\n",
       "      <td>4</td>\n",
       "      <td>3</td>\n",
       "      <td>3</td>\n",
       "      <td>3</td>\n",
       "      <td>0</td>\n",
       "    </tr>\n",
       "    <tr>\n",
       "      <th>3</th>\n",
       "      <td>1464</td>\n",
       "      <td>0.0</td>\n",
       "      <td>2010.0</td>\n",
       "      <td>0.0</td>\n",
       "      <td>2.0</td>\n",
       "      <td>470.0</td>\n",
       "      <td>1998.0</td>\n",
       "      <td>1.0</td>\n",
       "      <td>7.0</td>\n",
       "      <td>926.0</td>\n",
       "      <td>...</td>\n",
       "      <td>5</td>\n",
       "      <td>4</td>\n",
       "      <td>3</td>\n",
       "      <td>3</td>\n",
       "      <td>4</td>\n",
       "      <td>3</td>\n",
       "      <td>3</td>\n",
       "      <td>3</td>\n",
       "      <td>3</td>\n",
       "      <td>0</td>\n",
       "    </tr>\n",
       "    <tr>\n",
       "      <th>4</th>\n",
       "      <td>1465</td>\n",
       "      <td>0.0</td>\n",
       "      <td>2010.0</td>\n",
       "      <td>0.0</td>\n",
       "      <td>2.0</td>\n",
       "      <td>506.0</td>\n",
       "      <td>1992.0</td>\n",
       "      <td>0.0</td>\n",
       "      <td>5.0</td>\n",
       "      <td>1280.0</td>\n",
       "      <td>...</td>\n",
       "      <td>5</td>\n",
       "      <td>4</td>\n",
       "      <td>3</td>\n",
       "      <td>3</td>\n",
       "      <td>0</td>\n",
       "      <td>4</td>\n",
       "      <td>3</td>\n",
       "      <td>3</td>\n",
       "      <td>4</td>\n",
       "      <td>0</td>\n",
       "    </tr>\n",
       "  </tbody>\n",
       "</table>\n",
       "<p>5 rows × 93 columns</p>\n",
       "</div>"
      ],
      "text/plain": [
       "     Id  MiscVal  YrSold  PoolArea  GarageCars  GarageArea  GarageYrBlt  \\\n",
       "0  1461      0.0  2010.0       0.0         1.0       730.0       1961.0   \n",
       "1  1462  12500.0  2010.0       0.0         1.0       312.0       1958.0   \n",
       "2  1463      0.0  2010.0       0.0         2.0       482.0       1997.0   \n",
       "3  1464      0.0  2010.0       0.0         2.0       470.0       1998.0   \n",
       "4  1465      0.0  2010.0       0.0         2.0       506.0       1992.0   \n",
       "\n",
       "   Fireplaces  TotRmsAbvGrd  1stFlrSF  ...  HeatingQC  KitchenQual  \\\n",
       "0         0.0           5.0     896.0  ...          3            3   \n",
       "1         0.0           6.0    1329.0  ...          3            4   \n",
       "2         1.0           6.0     928.0  ...          4            3   \n",
       "3         1.0           7.0     926.0  ...          5            4   \n",
       "4         0.0           5.0    1280.0  ...          5            4   \n",
       "\n",
       "   GarageCond  GarageQual  FireplaceQu  BsmtQual  BsmtCond  ExterCond  \\\n",
       "0           3           3            0         3         3          3   \n",
       "1           3           3            0         3         3          3   \n",
       "2           3           3            3         4         3          3   \n",
       "3           3           3            4         3         3          3   \n",
       "4           3           3            0         4         3          3   \n",
       "\n",
       "   ExterQual  PoolQC  \n",
       "0          3       0  \n",
       "1          3       0  \n",
       "2          3       0  \n",
       "3          3       0  \n",
       "4          4       0  \n",
       "\n",
       "[5 rows x 93 columns]"
      ]
     },
     "execution_count": 3,
     "metadata": {},
     "output_type": "execute_result"
    }
   ],
   "source": [
    "houses_proc = preprocess(houses)\n",
    "houses_proc.head()"
   ]
  },
  {
   "cell_type": "code",
   "execution_count": 4,
   "metadata": {},
   "outputs": [
    {
     "name": "stderr",
     "output_type": "stream",
     "text": [
      "/opt/anaconda3/envs/datascience/lib/python3.12/site-packages/sklearn/utils/validation.py:2732: UserWarning: X has feature names, but RidgeCV was fitted without feature names\n",
      "  warnings.warn(\n"
     ]
    },
    {
     "data": {
      "application/vnd.microsoft.datawrangler.viewer.v0+json": {
       "columns": [
        {
         "name": "index",
         "rawType": "int64",
         "type": "integer"
        },
        {
         "name": "Id",
         "rawType": "int64",
         "type": "integer"
        },
        {
         "name": "SalePrice",
         "rawType": "float64",
         "type": "float"
        }
       ],
       "conversionMethod": "pd.DataFrame",
       "ref": "e4f78914-cfaa-42a4-a850-661bf9bb1ac1",
       "rows": [
        [
         "0",
         "1461",
         "120795.365938277"
        ],
        [
         "1",
         "1462",
         "157366.83216301494"
        ],
        [
         "2",
         "1463",
         "184363.67384351333"
        ],
        [
         "3",
         "1464",
         "192473.2101661351"
        ],
        [
         "4",
         "1465",
         "195618.40242708186"
        ],
        [
         "5",
         "1466",
         "178794.0840597074"
        ],
        [
         "6",
         "1467",
         "169909.80416939285"
        ],
        [
         "7",
         "1468",
         "168731.3142901374"
        ],
        [
         "8",
         "1469",
         "184411.07016670002"
        ],
        [
         "9",
         "1470",
         "115194.01042320467"
        ],
        [
         "10",
         "1471",
         "208318.78729577118"
        ],
        [
         "11",
         "1472",
         "90235.35433182155"
        ],
        [
         "12",
         "1473",
         "95391.15003902957"
        ],
        [
         "13",
         "1474",
         "150900.69572538536"
        ],
        [
         "14",
         "1475",
         "129651.19965830678"
        ],
        [
         "15",
         "1476",
         "393338.8167235905"
        ],
        [
         "16",
         "1477",
         "257793.5654333978"
        ],
        [
         "17",
         "1478",
         "297076.4610098703"
        ],
        [
         "18",
         "1479",
         "282078.2935359942"
        ],
        [
         "19",
         "1480",
         "449437.00440550415"
        ],
        [
         "20",
         "1481",
         "343250.20690204826"
        ],
        [
         "21",
         "1482",
         "210660.08164712595"
        ],
        [
         "22",
         "1483",
         "163864.36936256083"
        ],
        [
         "23",
         "1484",
         "169797.93992401325"
        ],
        [
         "24",
         "1485",
         "183005.40615040695"
        ],
        [
         "25",
         "1486",
         "200078.120180033"
        ],
        [
         "26",
         "1487",
         "353553.3852027119"
        ],
        [
         "27",
         "1488",
         "242849.9272109896"
        ],
        [
         "28",
         "1489",
         "204546.6919967039"
        ],
        [
         "29",
         "1490",
         "216369.17377193406"
        ],
        [
         "30",
         "1491",
         "193697.0714952427"
        ],
        [
         "31",
         "1492",
         "89433.6686511643"
        ],
        [
         "32",
         "1493",
         "194627.43355250335"
        ],
        [
         "33",
         "1494",
         "295331.8865103088"
        ],
        [
         "34",
         "1495",
         "298905.1749352534"
        ],
        [
         "35",
         "1496",
         "244164.17061383257"
        ],
        [
         "36",
         "1497",
         "178575.65529810704"
        ],
        [
         "37",
         "1498",
         "156045.50507968382"
        ],
        [
         "38",
         "1499",
         "157144.63134136453"
        ],
        [
         "39",
         "1500",
         "146700.41597342805"
        ],
        [
         "40",
         "1501",
         "166984.399575985"
        ],
        [
         "41",
         "1502",
         "149020.60303261434"
        ],
        [
         "42",
         "1503",
         "284962.52573761204"
        ],
        [
         "43",
         "1504",
         "236322.8937838191"
        ],
        [
         "44",
         "1505",
         "221241.04349502455"
        ],
        [
         "45",
         "1506",
         "167196.86719270542"
        ],
        [
         "46",
         "1507",
         "240740.97944913842"
        ],
        [
         "47",
         "1508",
         "187405.07069374944"
        ],
        [
         "48",
         "1509",
         "158048.99434901847"
        ],
        [
         "49",
         "1510",
         "140601.7802510293"
        ]
       ],
       "shape": {
        "columns": 2,
        "rows": 1459
       }
      },
      "text/html": [
       "<div>\n",
       "<style scoped>\n",
       "    .dataframe tbody tr th:only-of-type {\n",
       "        vertical-align: middle;\n",
       "    }\n",
       "\n",
       "    .dataframe tbody tr th {\n",
       "        vertical-align: top;\n",
       "    }\n",
       "\n",
       "    .dataframe thead th {\n",
       "        text-align: right;\n",
       "    }\n",
       "</style>\n",
       "<table border=\"1\" class=\"dataframe\">\n",
       "  <thead>\n",
       "    <tr style=\"text-align: right;\">\n",
       "      <th></th>\n",
       "      <th>Id</th>\n",
       "      <th>SalePrice</th>\n",
       "    </tr>\n",
       "  </thead>\n",
       "  <tbody>\n",
       "    <tr>\n",
       "      <th>0</th>\n",
       "      <td>1461</td>\n",
       "      <td>120795.365938</td>\n",
       "    </tr>\n",
       "    <tr>\n",
       "      <th>1</th>\n",
       "      <td>1462</td>\n",
       "      <td>157366.832163</td>\n",
       "    </tr>\n",
       "    <tr>\n",
       "      <th>2</th>\n",
       "      <td>1463</td>\n",
       "      <td>184363.673844</td>\n",
       "    </tr>\n",
       "    <tr>\n",
       "      <th>3</th>\n",
       "      <td>1464</td>\n",
       "      <td>192473.210166</td>\n",
       "    </tr>\n",
       "    <tr>\n",
       "      <th>4</th>\n",
       "      <td>1465</td>\n",
       "      <td>195618.402427</td>\n",
       "    </tr>\n",
       "    <tr>\n",
       "      <th>...</th>\n",
       "      <td>...</td>\n",
       "      <td>...</td>\n",
       "    </tr>\n",
       "    <tr>\n",
       "      <th>1454</th>\n",
       "      <td>2915</td>\n",
       "      <td>85566.598046</td>\n",
       "    </tr>\n",
       "    <tr>\n",
       "      <th>1455</th>\n",
       "      <td>2916</td>\n",
       "      <td>88296.011151</td>\n",
       "    </tr>\n",
       "    <tr>\n",
       "      <th>1456</th>\n",
       "      <td>2917</td>\n",
       "      <td>171161.301220</td>\n",
       "    </tr>\n",
       "    <tr>\n",
       "      <th>1457</th>\n",
       "      <td>2918</td>\n",
       "      <td>118170.528236</td>\n",
       "    </tr>\n",
       "    <tr>\n",
       "      <th>1458</th>\n",
       "      <td>2919</td>\n",
       "      <td>228738.058060</td>\n",
       "    </tr>\n",
       "  </tbody>\n",
       "</table>\n",
       "<p>1459 rows × 2 columns</p>\n",
       "</div>"
      ],
      "text/plain": [
       "        Id      SalePrice\n",
       "0     1461  120795.365938\n",
       "1     1462  157366.832163\n",
       "2     1463  184363.673844\n",
       "3     1464  192473.210166\n",
       "4     1465  195618.402427\n",
       "...    ...            ...\n",
       "1454  2915   85566.598046\n",
       "1455  2916   88296.011151\n",
       "1456  2917  171161.301220\n",
       "1457  2918  118170.528236\n",
       "1458  2919  228738.058060\n",
       "\n",
       "[1459 rows x 2 columns]"
      ]
     },
     "execution_count": 4,
     "metadata": {},
     "output_type": "execute_result"
    }
   ],
   "source": [
    "model(houses_proc)"
   ]
  }
 ],
 "metadata": {
  "kernelspec": {
   "display_name": "datascience",
   "language": "python",
   "name": "python3"
  },
  "language_info": {
   "codemirror_mode": {
    "name": "ipython",
    "version": 3
   },
   "file_extension": ".py",
   "mimetype": "text/x-python",
   "name": "python",
   "nbconvert_exporter": "python",
   "pygments_lexer": "ipython3",
   "version": "3.12.9"
  }
 },
 "nbformat": 4,
 "nbformat_minor": 2
}
