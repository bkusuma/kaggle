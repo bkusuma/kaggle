{
 "cells": [
  {
   "cell_type": "markdown",
   "metadata": {},
   "source": [
    "After referencing data_description, the encoding plan is as follows:\n",
    "\n",
    "## Ordinal\n",
    "Fence: Fence quality (GdPrv\tGood Privacy MnPrv\tMinimum Privacy GdWo\tGood Wood MnWw\tMinimum Wood/Wire NA\tNo Fence)\n",
    "PavedDrive: Paved driveway (Y\tPaved P\tPartial Pavement N\tDirt/Gravel)\n",
    "Functional: Home functionality (Assume typical unless deductions are warranted) (Typ\tTypical Functionality Min1\tMinor Deductions 1 Min2\tMinor Deductions 2 Mod\tModerate Deduction Maj1\tMajor Deductions 1 Maj2\tMajor Deductions 2 Sev\tSeverely Damaged Sal\tSalvage only)\n",
    "Electrical: Electrical system (2 SBrkr\tStandard Circuit Breakers & Romex 1 FuseA\tFuse Box over 60 AMP and all Romex wiring (Average) 0 Mix\tMixed -1 FuseF\t60 AMP Fuse Box and mostly Romex wiring (Fair)  -2 FuseP\t60 AMP Fuse Box and mostly knob & tube wiring (poor))\n",
    "BsmtFinType1: Rating of basement finished area (GLQ\tGood Living Quarters ALQ\tAverage Living Quarters BLQ\tBelow Average Living Quarters\t Rec\tAverage Rec Room LwQ\tLow Quality Unf\tUnfinshed NA\tNo Basement)\n",
    "BsmtFinType2: Rating of basement finished area (if multiple types) (GLQ\tGood Living Quarters ALQ\tAverage Living Quarters BLQ\tBelow Average Living Quarters\t Rec\tAverage Rec Room LwQ\tLow Quality Unf\tUnfinshed NA\tNo Basement)\n",
    "BsmtExposure: Refers to walkout or garden level walls (Gd\tGood Exposure Av\tAverage Exposure (split levels or foyers typically score average or above)\t Mn\tMimimum Exposure No\tNo Exposure NA\tNo Basement)\n",
    "\n",
    "__{\"Ex\": 5, \"Gd\": 4, \"TA\": 3, \"Fa\": 2, \"Po\": 1, NaN: 0}__\n",
    "\n",
    "HeatingQC: Heating quality and condition \n",
    "KitchenQual: Kitchen quality \n",
    "GarageCond: Garage condition \n",
    "GarageQual: Garage quality \n",
    "FireplaceQu: Fireplace quality \n",
    "BsmtQual: Evaluates the height of the basement\n",
    "BsmtCond: Evaluates the general condition of the basement\n",
    "ExterCond: Evaluates the present condition of the material on the exterior\n",
    "ExterQual: Evaluates the quality of the material on the exterior \n",
    "PoolQC: Pool quality \n",
    "\n",
    "## Nominal\n",
    "### OHE (option to do drop if binary)\n",
    "Home Ownership (trinary)\n",
    "Purpose\n",
    "MoSold: Month Sold (MM)\n",
    "GarageFinish: Interior finish of the garage\n",
    "CentralAir: Central air conditioning binary\n",
    "Street: Type of road access to property\n",
    "Alley: Type of alley access to property\n",
    "LotShape: General shape of property\n",
    "LandContour: Flatness of the property\n",
    "Utilities: Type of utilities available\n",
    "LotConfig: Lot configuration\n",
    "LandSlope: Slope of property\n",
    "Alley: Type of alley access to property\n",
    "\n",
    "### Hash\n",
    "SaleCondition: Condition of sale\n",
    "SaleType: Type of sale\n",
    "GarageType: Garage location\n",
    "Heating: Type of heating\n",
    "MSSubClass: Identifies the type of dwelling involved in the sale.\n",
    "MSZoning: Identifies the general zoning classification of the sale.\n",
    "Neighborhood: Physical locations within Ames city limits\t\t\t\n",
    "Condition1: Proximity to various conditions\n",
    "Condition2: Proximity to various conditions (if more than one is present)\n",
    "BldgType: Type of dwelling\n",
    "HouseStyle: Style of dwelling\n",
    "RoofStyle: Type of roof\t\n",
    "RoofMatl: Roof material\n",
    "Exterior1st: Exterior covering on house\t\n",
    "Exterior2nd: Exterior covering on house (if more than one material)\t\n",
    "MasVnrType: Masonry veneer type\n",
    "Foundation: Type of foundation\n",
    "\n",
    "## Numeric Columns\n",
    "MiscVal: $Value of miscellaneous feature\n",
    "YrSold: Year Sold (YYYY)\n",
    "PoolArea: Pool area in square feet\n",
    "GarageCars: Size of garage in car capacity\n",
    "GarageArea: Size of garage in square feet\n",
    "GarageYrBlt: Year garage was built\n",
    "Fireplaces: Number of fireplaces\n",
    "TotRmsAbvGrd: Total rooms above grade (does not include bathrooms)\n",
    "1stFlrSF: First Floor square feet\n",
    "2ndFlrSF: Second floor square feet\n",
    "LowQualFinSF: Low quality finished square feet (all floors)\n",
    "GrLivArea: Above grade (ground) living area square feet\n",
    "BsmtFullBath: Basement full bathrooms\n",
    "BsmtHalfBath: Basement half bathrooms\n",
    "FullBath: Full bathrooms above grade\n",
    "HalfBath: Half baths above grade\n",
    "Bedroom: Bedrooms above grade (does NOT include basement bedrooms)\n",
    "BsmtFinSF1: Type 1 finished square feet\n",
    "BsmtFinSF2: Type 2 finished square feet\n",
    "BsmtUnfSF: Unfinished square feet of basement area\n",
    "TotalBsmtSF: Total square feet of basement area\n",
    "MasVnrArea: Masonry veneer area in square feet\n",
    "LotFrontage: Linear feet of street connected to property\n",
    "LotArea: Lot size in square feet\n",
    "YearBuilt: Original construction date\n",
    "YearRemodAdd: Remodel date (same as construction date if no remodeling or additions)\n",
    "OverallQual: Rates the overall material and finish of the house\n",
    "OverallCond: Rates the overall condition of the house\n",
    "\n",
    "__sum all porches into one Porch column__\n",
    "\n",
    "ScreenPorch: Screen porch area in square feet\n",
    "3SsnPorch: Three season porch area in square feet\n",
    "WoodDeckSF: Wood deck area in square feet\n",
    "OpenPorchSF: Open porch area in square feet\n",
    "EnclosedPorch: Enclosed porch area in square feet\n",
    "\n",
    "# Target\n",
    "SalePrice"
   ]
  },
  {
   "cell_type": "markdown",
   "metadata": {},
   "source": [
    "Steps:\n",
    "1. Split data into train and test\n",
    "\n",
    "2. Drops from EDA\n",
    "- drop `Id`\n",
    "- drop `MiscFeature`: Miscellaneous feature not covered in other categories\n",
    "- drop duplicates\n",
    "\n",
    "3. Imputation\n",
    "\n",
    "4. Preprocessing\n",
    "- Build Pipelines\n",
    "- Select columns\n",
    "- Create tuples\n",
    "- Column Transformer\n",
    "- Encoding\n",
    "\n",
    "5. Model!"
   ]
  },
  {
   "cell_type": "markdown",
   "metadata": {},
   "source": [
    "## Library imports"
   ]
  },
  {
   "cell_type": "code",
   "execution_count": 48,
   "metadata": {},
   "outputs": [],
   "source": [
    "import pandas as pd\n",
    "import numpy as np\n",
    "import seaborn as sns\n",
    "import matplotlib.pyplot as plt\n",
    "import math\n",
    "import scipy\n",
    "\n",
    "from sklearn import set_config\n",
    "set_config(transform_output='pandas')\n",
    "\n",
    "from sklearn.compose import ColumnTransformer\n",
    "from sklearn.ensemble import RandomForestRegressor\n",
    "from sklearn.impute import SimpleImputer\n",
    "from sklearn.linear_model import LinearRegression, LogisticRegression, Ridge, Lasso, ElasticNet\n",
    "from sklearn.metrics import (mean_absolute_error, mean_squared_error, r2_score, \n",
    "                             mean_absolute_percentage_error, root_mean_squared_error)\n",
    "from sklearn.model_selection import train_test_split, GridSearchCV\n",
    "from sklearn.pipeline import Pipeline, make_pipeline\n",
    "from sklearn.preprocessing import StandardScaler, OneHotEncoder, RobustScaler, PolynomialFeatures\n",
    "from sklearn.tree import DecisionTreeRegressor, plot_tree\n",
    "\n",
    "\n",
    "import category_encoders as ce\n",
    "from category_encoders.hashing import HashingEncoder\n",
    "from category_encoders.ordinal import OrdinalEncoder\n",
    "\n",
    "from xgboost import XGBRegressor"
   ]
  },
  {
   "cell_type": "markdown",
   "metadata": {},
   "source": [
    "## Load dataset"
   ]
  },
  {
   "cell_type": "code",
   "execution_count": 49,
   "metadata": {},
   "outputs": [],
   "source": [
    "file_path = \"../../house-prices-advanced-regression-techniques/input/train.csv\"\n",
    "houses = pd.read_csv(file_path)"
   ]
  },
  {
   "cell_type": "markdown",
   "metadata": {},
   "source": [
    "# Train/Test Split"
   ]
  },
  {
   "cell_type": "code",
   "execution_count": 50,
   "metadata": {},
   "outputs": [],
   "source": [
    "X = houses.drop(columns = \"SalePrice\")\n",
    "y = houses[\"SalePrice\"].copy()\n",
    "\n",
    "X_train, X_test, y_train, y_test = train_test_split(X, y, test_size=0.2, random_state=42)"
   ]
  },
  {
   "cell_type": "markdown",
   "metadata": {},
   "source": [
    "# Drop indicated columns"
   ]
  },
  {
   "cell_type": "code",
   "execution_count": 51,
   "metadata": {},
   "outputs": [],
   "source": [
    "for _ in [X_train, X_test]:\n",
    "    _.drop(columns=[\"Id\", \"MiscFeature\"], inplace=True)"
   ]
  },
  {
   "cell_type": "markdown",
   "metadata": {},
   "source": [
    "# Impute missing vals"
   ]
  },
  {
   "cell_type": "code",
   "execution_count": 52,
   "metadata": {},
   "outputs": [],
   "source": [
    "imputer = SimpleImputer(strategy=\"constant\", fill_value=0)\n",
    "imputer.fit(X_train)\n",
    "\n",
    "for _ in [X_train, X_test]:\n",
    "    imputer.transform(_)"
   ]
  },
  {
   "cell_type": "markdown",
   "metadata": {},
   "source": [
    "# Build Pipelines"
   ]
  },
  {
   "cell_type": "code",
   "execution_count": null,
   "metadata": {},
   "outputs": [],
   "source": [
    "# numerical pipeline\n",
    "num_pipe = Pipeline([('Median Imputer', median_imputer),\n",
    "                     ('Standard Scaler', scaler)])\n",
    "\n",
    "# categone hot encoder pipeline\n",
    "ohe_pipe = Pipeline([('Most Frequent Imputer', freq_imputer),\n",
    "                     ('OHE', ohe)])\n",
    "\n",
    "# Hashing Pipeline\n",
    "hashing_pipe = Pipeline([\n",
    "    ('imputer', freq_imputer),\n",
    "     ('hash', hash)\n",
    "])\n",
    "\n",
    "# column selection\n",
    "ohe_cols = X_train.select_dtypes(include='object').columns.drop(hashing_cols)\n",
    "num_cols = X_train.select_dtypes(include='number').columns.to_list()\n",
    "\n",
    "# Column Transformer Tuples\n",
    "num_tuple = (\"Numeric\", num_pipe, num_cols)\n",
    "ohe_tuple = (\"OHE\", ohe_pipe, ohe_cols)\n",
    "hashing_tuple = ('Hashing Encoder', hashing_pipe, hashing_cols)\n",
    "cat_tuple = ('Categorical Transformers', ohe_pipe, ohe_cols)\n",
    "num_tuple = ('Numeric Transformers', num_pipe, num_cols)"
   ]
  },
  {
   "cell_type": "code",
   "execution_count": null,
   "metadata": {},
   "outputs": [],
   "source": [
    "# Column Selector\n",
    "preprocessor = ColumnTransformer([num_tuple, ohe_tuple], remainder='drop',\n",
    "                                 verbose_feature_names_out=False)\n",
    "\n",
    "# Transform Data\n",
    "X_train_proc = preprocessor.fit(X_train)\n",
    "X_train_proc = preprocessor.transform(X_train)\n",
    "\n",
    "X_train_proc.info()"
   ]
  }
 ],
 "metadata": {
  "kernelspec": {
   "display_name": "Python 3",
   "language": "python",
   "name": "python3"
  },
  "language_info": {
   "codemirror_mode": {
    "name": "ipython",
    "version": 3
   },
   "file_extension": ".py",
   "mimetype": "text/x-python",
   "name": "python",
   "nbconvert_exporter": "python",
   "pygments_lexer": "ipython3",
   "version": "3.12.9"
  }
 },
 "nbformat": 4,
 "nbformat_minor": 2
}
