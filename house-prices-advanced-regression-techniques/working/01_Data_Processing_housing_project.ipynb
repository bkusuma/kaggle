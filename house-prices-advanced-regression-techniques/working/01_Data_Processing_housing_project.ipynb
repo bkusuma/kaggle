{
 "cells": [
  {
   "cell_type": "markdown",
   "metadata": {},
   "source": [
    "# Data Processing Steps:"
   ]
  },
  {
   "cell_type": "markdown",
   "metadata": {},
   "source": [
    "1. Split data into train and test\n",
    "- Drop columns noted through EDA\n",
    "    -  `Id`, `MiscFeature`, `MSSubClass`\n",
    "2. Preprocessing\n",
    "- Instantiate Transformers\n",
    "- Build Pipelines\n",
    "- Select columns\n",
    "- Create tuples\n",
    "- Column Transformer\n",
    "- Encoding\n",
    "\n",
    "3. New Baseline Model submission with processed data"
   ]
  },
  {
   "cell_type": "markdown",
   "metadata": {},
   "source": [
    "# Library imports"
   ]
  },
  {
   "cell_type": "code",
   "execution_count": null,
   "metadata": {},
   "outputs": [],
   "source": [
    "import math\n",
    "import pandas as pd\n",
    "pd.set_option('display.max_columns', 100)\n",
    "import numpy as np\n",
    "np.set_printoptions(legacy=\"1.21\")\n",
    "\n",
    "from sklearn import set_config\n",
    "set_config(transform_output='pandas')\n",
    "\n",
    "from sklearn.compose import ColumnTransformer\n",
    "from sklearn.ensemble import RandomForestRegressor\n",
    "from sklearn.impute import SimpleImputer\n",
    "from sklearn.metrics import root_mean_squared_log_error\n",
    "from sklearn.model_selection import train_test_split\n",
    "from sklearn.pipeline import Pipeline\n",
    "from sklearn.preprocessing import OneHotEncoder, FunctionTransformer\n",
    "\n",
    "import category_encoders as ce\n",
    "from category_encoders.hashing import HashingEncoder\n",
    "from category_encoders.ordinal import OrdinalEncoder\n",
    "\n",
    "import joblib"
   ]
  },
  {
   "cell_type": "markdown",
   "metadata": {},
   "source": [
    "# Preprocessing"
   ]
  },
  {
   "cell_type": "code",
   "execution_count": null,
   "metadata": {},
   "outputs": [],
   "source": [
    "# column selection\n",
    "ohe_cols = [\"MoSold\",\n",
    "            \"GarageFinish\",\n",
    "            \"CentralAir\",\n",
    "            \"Street\",\n",
    "            \"Alley\",\n",
    "            \"LotShape\",\n",
    "            \"Utilities\",\n",
    "            \"LandContour\",\n",
    "            \"LotConfig\",\n",
    "            \"LandSlope\"]\n",
    "num_cols = [\"MiscVal\",\n",
    "            \"YrSold\",\n",
    "            \"PoolArea\",\n",
    "            \"GarageCars\",\n",
    "            \"GarageArea\",\n",
    "            \"GarageYrBlt\",\n",
    "            \"Fireplaces\",\n",
    "            \"TotRmsAbvGrd\",\n",
    "            \"1stFlrSF\",\n",
    "            \"2ndFlrSF\",\n",
    "            \"LowQualFinSF\",\n",
    "            \"GrLivArea\",\n",
    "            \"BsmtFullBath\",\n",
    "            \"BsmtHalfBath\",\n",
    "            \"FullBath\",\n",
    "            \"HalfBath\",\n",
    "            \"BedroomAbvGr\",\n",
    "            \"KitchenAbvGr\",\n",
    "            \"BsmtFinSF1\",\n",
    "            \"BsmtFinSF2\",\n",
    "            \"BsmtUnfSF\",\n",
    "            \"TotalBsmtSF\",\n",
    "            \"MasVnrArea\",\n",
    "            \"LotFrontage\",\n",
    "            \"LotArea\",\n",
    "            \"YearBuilt\",\n",
    "            \"YearRemodAdd\",\n",
    "            \"OverallQual\",\n",
    "            \"OverallCond\"]\n",
    "porch_cols = [\"ScreenPorch\",\n",
    "            \"3SsnPorch\",\n",
    "            \"WoodDeckSF\",\n",
    "            \"OpenPorchSF\",\n",
    "            \"EnclosedPorch\"]\n",
    "hash_cols = [\"SaleCondition\",\n",
    "            \"SaleType\",\n",
    "            \"GarageType\",\n",
    "            \"Heating\",\n",
    "            \"MSZoning\",\n",
    "            \"Neighborhood\",\t\t\n",
    "            \"Condition1\",\n",
    "            \"Condition2\",\n",
    "            \"BldgType\",\n",
    "            \"HouseStyle\",\n",
    "            \"RoofStyle\",\n",
    "            \"RoofMatl\",\n",
    "            \"Exterior1st\",\n",
    "            \"Exterior2nd\",\n",
    "            \"MasVnrType\",\n",
    "            \"Foundation\",\n",
    "            \"BsmtFinType1\",\n",
    "            \"BsmtFinType2\"]\n",
    "ord_cols = [\"Fence\",\n",
    "            \"PavedDrive\",\n",
    "            \"Functional\",\n",
    "            \"Electrical\",\n",
    "            \"BsmtExposure\",\n",
    "            \"HeatingQC\",\n",
    "            \"KitchenQual\",\n",
    "            \"GarageCond\",\n",
    "            \"GarageQual\",\n",
    "            \"FireplaceQu\",\n",
    "            \"BsmtQual\",\n",
    "            \"BsmtCond\",\n",
    "            \"ExterCond\",\n",
    "            \"ExterQual\",\n",
    "            \"PoolQC\"]"
   ]
  },
  {
   "cell_type": "code",
   "execution_count": null,
   "metadata": {},
   "outputs": [],
   "source": [
    "\"\"\"Intermediaries Needed for Encoding\"\"\"\n",
    "# porch summing function\n",
    "# def porch_func(df):\n",
    "#     df_porch = df.copy()\n",
    "#     df_porch[\"Porch_sum\"] = 0\n",
    "#     for porch in porch_cols:\n",
    "#         df_porch[\"Porch_sum\"] = df_porch[\"Porch_sum\"] + df_porch[porch]\n",
    "#     df_porch.drop(porch_cols, axis=1, inplace=True)\n",
    "#     return df_porch\n",
    "\n",
    "def porch_func(X):\n",
    "    import pandas as pd\n",
    "    return pd.DataFrame(X.sum(axis=1), columns=['porch_cols'])\n",
    "\n",
    "# find hash components needed and add one for safety\n",
    "file_path = \"../../house-prices-advanced-regression-techniques/input/train.csv\"\n",
    "houses = pd.read_csv(file_path)\n",
    "hash_n = math.ceil(math.log2(max(houses.select_dtypes(include=\"object\").nunique()))) + 1\n",
    "\n",
    "# ordinal map\n",
    "ord_map = [{\"col\": \"Fence\", \"mapping\": {\"Missing\":0, \"MnWw\":1, \"GdWo\":2, \"MnPrv\":3, \"GdPrv\":4}},\n",
    "             {\"col\": \"PavedDrive\", \"mapping\": {\"N\":1, \"P\":2, \"Y\":3}},\n",
    "             {\"col\": \"Functional\", \"mapping\": {\"Sal\":-7, \"Sev\":-6, \"Maj2\":-5, \"Maj1\":-4, \"Mod\":-3, \"Min2\":-2, \"Min1\":-1, \"Missing\": 0, \"Typ\":0}},\n",
    "             {\"col\": \"Electrical\", \"mapping\": {\"Missing\":0, \"FuseP\": -2, \"FuseF\":-1, \"Mix\":0, \"FuseA\":1, \"SBrkr\":2}},\n",
    "             {\"col\": \"BsmtExposure\", \"mapping\": {\"Missing\":0, \"No\":1, \"Mn\":2, \"Av\":3, \"Gd\":4}},\n",
    "             {\"col\": \"HeatingQC\", \"mapping\": {\"Ex\": 5, \"Gd\": 4, \"TA\": 3, \"Fa\": 2, \"Po\": 1, \"Missing\": 0}},\n",
    "             {\"col\": \"KitchenQual\", \"mapping\": {\"Ex\": 5, \"Gd\": 4, \"TA\": 3, \"Fa\": 2, \"Po\": 1, \"Missing\": 0}},\n",
    "             {\"col\": \"GarageCond\", \"mapping\": {\"Ex\": 5, \"Gd\": 4, \"TA\": 3, \"Fa\": 2, \"Po\": 1, \"Missing\": 0}},\n",
    "             {\"col\": \"GarageQual\", \"mapping\": {\"Ex\": 5, \"Gd\": 4, \"TA\": 3, \"Fa\": 2, \"Po\": 1, \"Missing\": 0}},\n",
    "             {\"col\": \"FireplaceQu\", \"mapping\": {\"Ex\": 5, \"Gd\": 4, \"TA\": 3, \"Fa\": 2, \"Po\": 1, \"Missing\": 0}},\n",
    "             {\"col\": \"BsmtQual\", \"mapping\": {\"Ex\": 5, \"Gd\": 4, \"TA\": 3, \"Fa\": 2, \"Po\": 1, \"Missing\": 0}},\n",
    "             {\"col\": \"BsmtCond\", \"mapping\": {\"Ex\": 5, \"Gd\": 4, \"TA\": 3, \"Fa\": 2, \"Po\": 1, \"Missing\": 0}},\n",
    "             {\"col\": \"ExterCond\", \"mapping\": {\"Ex\": 5, \"Gd\": 4, \"TA\": 3, \"Fa\": 2, \"Po\": 1, \"Missing\": 0}},\n",
    "             {\"col\": \"ExterQual\", \"mapping\": {\"Ex\": 5, \"Gd\": 4, \"TA\": 3, \"Fa\": 2, \"Po\": 1, \"Missing\": 0}},\n",
    "             {\"col\": \"PoolQC\", \"mapping\": {\"Ex\": 5, \"Gd\": 4, \"TA\": 3, \"Fa\": 2, \"Po\": 1, \"Missing\": 0}}]"
   ]
  },
  {
   "cell_type": "code",
   "execution_count": null,
   "metadata": {},
   "outputs": [],
   "source": [
    "# instantiate transformers\n",
    "zero_imputer = SimpleImputer(strategy=\"constant\", fill_value=0)\n",
    "missing_imputer = SimpleImputer(strategy=\"constant\", fill_value=\"Missing\")\n",
    "\n",
    "ohe = OneHotEncoder(sparse_output=False, handle_unknown='infrequent_if_exist')\n",
    "porch_sum = FunctionTransformer(porch_func)\n",
    "hash = HashingEncoder(cols=hash_cols, n_components=hash_n, drop_invariant=True)\n",
    "ord = OrdinalEncoder(cols=ord_cols, mapping=ord_map, drop_invariant=True)"
   ]
  },
  {
   "cell_type": "code",
   "execution_count": null,
   "metadata": {},
   "outputs": [],
   "source": [
    "# pipelines\n",
    "ohe_pipe = Pipeline([(\"Missing Imputer\", missing_imputer),\n",
    "                     (\"One Hot Encoder\", ohe)])\n",
    "hash_pipe = Pipeline([(\"Missing Imputer\", missing_imputer),\n",
    "                     (\"Hashing Encoder\", hash)])\n",
    "ord_pipe = Pipeline([(\"Missing Imputer\", missing_imputer),\n",
    "                     (\"Ordinal Encoder\", ord)])\n",
    "porch_pipe = Pipeline([(\"Zero Imputer\", zero_imputer),\n",
    "                     (\"Porch Sum\", porch_sum)])"
   ]
  },
  {
   "cell_type": "code",
   "execution_count": null,
   "metadata": {},
   "outputs": [],
   "source": [
    "# column transformer tuples\n",
    "ohe_tuple = (\"One Hot Encoder\", ohe_pipe, ohe_cols)\n",
    "hash_tuple = (\"Hashing Encoder\", hash_pipe, hash_cols)\n",
    "ord_tuple = (\"Ordinal Encoder\", ord_pipe, ord_cols)\n",
    "porch_tuple = (\"Sum of Porches\", porch_pipe, porch_cols)\n",
    "\n",
    "num_tuple = (\"Numeric Imputation\", zero_imputer, num_cols)\n"
   ]
  },
  {
   "cell_type": "code",
   "execution_count": null,
   "metadata": {},
   "outputs": [],
   "source": [
    "# column selector\n",
    "preprocessor = ColumnTransformer([num_tuple, ohe_tuple, porch_tuple, hash_tuple, ord_tuple], remainder='drop',\n",
    "                                 verbose_feature_names_out=False)"
   ]
  },
  {
   "cell_type": "code",
   "execution_count": null,
   "metadata": {},
   "outputs": [],
   "source": [
    "# saving preprocessor for future use\n",
    "joblib.dump(preprocessor, \"preprocessor.joblib\")"
   ]
  },
  {
   "cell_type": "markdown",
   "metadata": {},
   "source": [
    "# Load dataset & Train/Test Split"
   ]
  },
  {
   "cell_type": "code",
   "execution_count": null,
   "metadata": {},
   "outputs": [],
   "source": [
    "file_path = \"../../house-prices-advanced-regression-techniques/input/train.csv\"\n",
    "houses = pd.read_csv(file_path)\n",
    "\n",
    "X = houses.drop(columns = [\"Id\", \"MiscFeature\", \"MSSubClass\", \"SalePrice\"])\n",
    "y = houses[\"SalePrice\"].copy()\n",
    "y = np.log(y) # taking logarithm for a more normally distributed target\n",
    "\n",
    "X_train, X_test, y_train, y_test = train_test_split(X, y, test_size=0.2, random_state=42)"
   ]
  },
  {
   "cell_type": "code",
   "execution_count": null,
   "metadata": {},
   "outputs": [],
   "source": [
    "# Transform Data\n",
    "preprocessor.fit(X_train)\n",
    "X_train_proc = preprocessor.transform(X_train)\n",
    "X_test_proc = preprocessor.transform(X_test)"
   ]
  },
  {
   "cell_type": "code",
   "execution_count": null,
   "metadata": {},
   "outputs": [],
   "source": [
    "# Fitted preprocessor on all data\n",
    "fitted_preprocessor = preprocessor.fit(X)\n",
    "joblib.dump(fitted_preprocessor, \"fitted_preprocessor.joblib\")"
   ]
  }
 ],
 "metadata": {
  "kernelspec": {
   "display_name": "datascience",
   "language": "python",
   "name": "python3"
  },
  "language_info": {
   "codemirror_mode": {
    "name": "ipython",
    "version": 3
   },
   "file_extension": ".py",
   "mimetype": "text/x-python",
   "name": "python",
   "nbconvert_exporter": "python",
   "pygments_lexer": "ipython3",
   "version": "3.12.9"
  }
 },
 "nbformat": 4,
 "nbformat_minor": 2
}
